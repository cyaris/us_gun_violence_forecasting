{
 "cells": [
  {
   "cell_type": "code",
   "execution_count": 1,
   "metadata": {},
   "outputs": [],
   "source": [
    "import pandas as pd\n",
    "import numpy as np\n",
    "from fbprophet import Prophet\n",
    "from copy import deepcopy"
   ]
  },
  {
   "cell_type": "code",
   "execution_count": 2,
   "metadata": {},
   "outputs": [],
   "source": [
    "from warnings import filterwarnings\n",
    "\n",
    "filterwarnings('ignore')"
   ]
  },
  {
   "cell_type": "code",
   "execution_count": 3,
   "metadata": {},
   "outputs": [],
   "source": [
    "pd.set_option('display.float_format', lambda x: '%.2f' % x)\n",
    "pd.set_option('display.max_columns', None)\n",
    "# pd.set_option('display.max_colwidth', 1000)"
   ]
  },
  {
   "cell_type": "code",
   "execution_count": 4,
   "metadata": {},
   "outputs": [],
   "source": [
    "df_date = pd.read_pickle('Pickles/df_date_2.pkl')\n",
    "# creating a field for victims not including those \"unharmed\"\n",
    "df_date['num_harmed'] = df_date['num_killed'] + df_date['num_injured']\n",
    "df_date = df_date[['date', 'num_harmed']]"
   ]
  },
  {
   "cell_type": "code",
   "execution_count": 5,
   "metadata": {},
   "outputs": [],
   "source": [
    "assert set(list(df_date.isnull().sum().values))=={0}"
   ]
  },
  {
   "cell_type": "code",
   "execution_count": 6,
   "metadata": {},
   "outputs": [
    {
     "data": {
      "text/plain": [
       "2016    366\n",
       "2018    365\n",
       "2017    365\n",
       "2015    365\n",
       "2014    365\n",
       "2019     70\n",
       "Name: date, dtype: int64"
      ]
     },
     "execution_count": 6,
     "metadata": {},
     "output_type": "execute_result"
    }
   ],
   "source": [
    "df_date['date'].dt.year.value_counts()"
   ]
  },
  {
   "cell_type": "code",
   "execution_count": 7,
   "metadata": {},
   "outputs": [
    {
     "name": "stdout",
     "output_type": "stream",
     "text": [
      "{2014: 1896, 2015: 1531, 2016: 1165, 2017: 800, 2018: 435, 2019: 365}\n"
     ]
    }
   ],
   "source": [
    "future_dataframe_lengths = {}\n",
    "for year in df_date['date'].dt.year.unique():\n",
    "    try:\n",
    "        future_dataframe_lengths[year] = len(pd.period_range(min(df_date[df_date['date'].dt.year==year+1]['date']), max(df_date['date']))) + 365\n",
    "    except:\n",
    "        future_dataframe_lengths[year] = 365\n",
    "\n",
    "print(future_dataframe_lengths)"
   ]
  },
  {
   "cell_type": "code",
   "execution_count": 8,
   "metadata": {
    "code_folding": []
   },
   "outputs": [],
   "source": [
    "for i, year in enumerate(df_date['date'].dt.year.unique()):\n",
    "    df_date.rename({'date': 'ds', 'num_harmed': 'y'}, axis = 1, inplace = True)\n",
    "    harmed_prophet = Prophet(changepoint_prior_scale = 0.5, daily_seasonality = True, yearly_seasonality = True)\n",
    "    harmed_prophet.fit(df_date[df_date['ds'].dt.year <= year])\n",
    "    harmed_forecast = harmed_prophet.make_future_dataframe(periods=future_dataframe_lengths[year], freq='D')\n",
    "    harmed_forecast = harmed_prophet.predict(harmed_forecast)\n",
    "    harmed_forecast['yearly_trend_calc_' + str(year)] = harmed_forecast['yhat'] - harmed_forecast['yhat'].shift(periods=365)\n",
    "    harmed_forecast.rename({'ds': 'date', 'yhat': 'pred_' + str(year)}, axis = 1, inplace = True)\n",
    "    df_date.rename({'ds': 'date', 'y': 'num_harmed'}, axis = 1, inplace = True)\n",
    "    if i==0:\n",
    "        d3_data = pd.merge(harmed_forecast[['date', 'pred_' + str(year)]], df_date, on = 'date', how='outer')\n",
    "        d3_data = pd.merge(harmed_forecast[['date', 'yearly_trend_calc_' + str(year)]], d3_data, on = 'date', how='outer')\n",
    "    else:\n",
    "        d3_data = pd.merge(harmed_forecast[['date', 'pred_' + str(year)]], d3_data, on = 'date', how='outer')\n",
    "        d3_data = pd.merge(harmed_forecast[['date', 'yearly_trend_calc_' + str(year)]], d3_data, on = 'date', how='outer')"
   ]
  },
  {
   "cell_type": "code",
   "execution_count": 9,
   "metadata": {},
   "outputs": [
    {
     "data": {
      "text/plain": [
       "2261"
      ]
     },
     "execution_count": 9,
     "metadata": {},
     "output_type": "execute_result"
    }
   ],
   "source": [
    "len(d3_data)"
   ]
  },
  {
   "cell_type": "code",
   "execution_count": 10,
   "metadata": {},
   "outputs": [],
   "source": [
    "# column_list = ['date', 'num_harmed']\n",
    "# for column in d3_data.columns:\n",
    "#     if \"smooth_0\" in column:\n",
    "#         column_list.append(column)\n",
    "        \n",
    "# for rate_value in np.arange(5, 25, 5):\n",
    "#     d3_data_calc = deepcopy(d3_data[column_list])\n",
    "#     keep_index = list(d3_data_calc.iloc[0::rate_value, :].index.values)\n",
    "#     for column in d3_data_calc.columns:\n",
    "#         if 'pred' in column:\n",
    "#             for i, index_value in enumerate(d3_data_calc.index.values):\n",
    "#                 if i not in keep_index:\n",
    "#                     d3_data_calc.loc[i, column] = None\n",
    "#             d3_data_calc[column] = d3_data_calc[column].interpolate(method = 'cubic')\n",
    "#             d3_data_calc[column] = d3_data_calc[column].ffill()\n",
    "#             d3_data_calc.rename({column: str(column)[:-1] + str(rate_value)}, axis = 1, inplace = True)\n",
    "#     d3_data = pd.merge(d3_data, d3_data_calc, on = ['date', 'num_harmed'])"
   ]
  },
  {
   "cell_type": "code",
   "execution_count": 11,
   "metadata": {},
   "outputs": [
    {
     "data": {
      "text/html": [
       "<div>\n",
       "<style scoped>\n",
       "    .dataframe tbody tr th:only-of-type {\n",
       "        vertical-align: middle;\n",
       "    }\n",
       "\n",
       "    .dataframe tbody tr th {\n",
       "        vertical-align: top;\n",
       "    }\n",
       "\n",
       "    .dataframe thead th {\n",
       "        text-align: right;\n",
       "    }\n",
       "</style>\n",
       "<table border=\"1\" class=\"dataframe\">\n",
       "  <thead>\n",
       "    <tr style=\"text-align: right;\">\n",
       "      <th></th>\n",
       "      <th>date</th>\n",
       "      <th>yearly_trend_calc_2019</th>\n",
       "      <th>pred_2019</th>\n",
       "      <th>yearly_trend_calc_2018</th>\n",
       "      <th>pred_2018</th>\n",
       "      <th>yearly_trend_calc_2017</th>\n",
       "      <th>pred_2017</th>\n",
       "      <th>yearly_trend_calc_2016</th>\n",
       "      <th>pred_2016</th>\n",
       "      <th>yearly_trend_calc_2015</th>\n",
       "      <th>pred_2015</th>\n",
       "      <th>yearly_trend_calc_2014</th>\n",
       "      <th>pred_2014</th>\n",
       "      <th>num_harmed</th>\n",
       "    </tr>\n",
       "  </thead>\n",
       "  <tbody>\n",
       "    <tr>\n",
       "      <th>2256</th>\n",
       "      <td>2020-03-06</td>\n",
       "      <td>1.21</td>\n",
       "      <td>83.88</td>\n",
       "      <td>-4.22</td>\n",
       "      <td>73.03</td>\n",
       "      <td>-9.85</td>\n",
       "      <td>55.43</td>\n",
       "      <td>36.44</td>\n",
       "      <td>211.74</td>\n",
       "      <td>23.84</td>\n",
       "      <td>171.30</td>\n",
       "      <td>9.11</td>\n",
       "      <td>66.41</td>\n",
       "      <td>nan</td>\n",
       "    </tr>\n",
       "    <tr>\n",
       "      <th>2257</th>\n",
       "      <td>2020-03-07</td>\n",
       "      <td>23.98</td>\n",
       "      <td>113.51</td>\n",
       "      <td>18.07</td>\n",
       "      <td>102.76</td>\n",
       "      <td>12.33</td>\n",
       "      <td>85.63</td>\n",
       "      <td>58.78</td>\n",
       "      <td>242.82</td>\n",
       "      <td>45.36</td>\n",
       "      <td>200.45</td>\n",
       "      <td>24.48</td>\n",
       "      <td>93.01</td>\n",
       "      <td>nan</td>\n",
       "    </tr>\n",
       "    <tr>\n",
       "      <th>2258</th>\n",
       "      <td>2020-03-08</td>\n",
       "      <td>4.46</td>\n",
       "      <td>123.66</td>\n",
       "      <td>-1.39</td>\n",
       "      <td>113.04</td>\n",
       "      <td>-7.37</td>\n",
       "      <td>96.13</td>\n",
       "      <td>33.98</td>\n",
       "      <td>249.00</td>\n",
       "      <td>22.05</td>\n",
       "      <td>206.20</td>\n",
       "      <td>-1.30</td>\n",
       "      <td>93.77</td>\n",
       "      <td>nan</td>\n",
       "    </tr>\n",
       "    <tr>\n",
       "      <th>2259</th>\n",
       "      <td>2020-03-09</td>\n",
       "      <td>-39.25</td>\n",
       "      <td>90.10</td>\n",
       "      <td>-45.53</td>\n",
       "      <td>79.18</td>\n",
       "      <td>-52.24</td>\n",
       "      <td>61.74</td>\n",
       "      <td>-2.12</td>\n",
       "      <td>218.94</td>\n",
       "      <td>-13.61</td>\n",
       "      <td>176.18</td>\n",
       "      <td>-27.23</td>\n",
       "      <td>68.54</td>\n",
       "      <td>nan</td>\n",
       "    </tr>\n",
       "    <tr>\n",
       "      <th>2260</th>\n",
       "      <td>2020-03-10</td>\n",
       "      <td>-9.81</td>\n",
       "      <td>86.00</td>\n",
       "      <td>-16.29</td>\n",
       "      <td>74.54</td>\n",
       "      <td>-22.29</td>\n",
       "      <td>57.27</td>\n",
       "      <td>23.35</td>\n",
       "      <td>214.22</td>\n",
       "      <td>12.61</td>\n",
       "      <td>172.27</td>\n",
       "      <td>-9.00</td>\n",
       "      <td>61.48</td>\n",
       "      <td>nan</td>\n",
       "    </tr>\n",
       "  </tbody>\n",
       "</table>\n",
       "</div>"
      ],
      "text/plain": [
       "           date  yearly_trend_calc_2019  pred_2019  yearly_trend_calc_2018  \\\n",
       "2256 2020-03-06                    1.21      83.88                   -4.22   \n",
       "2257 2020-03-07                   23.98     113.51                   18.07   \n",
       "2258 2020-03-08                    4.46     123.66                   -1.39   \n",
       "2259 2020-03-09                  -39.25      90.10                  -45.53   \n",
       "2260 2020-03-10                   -9.81      86.00                  -16.29   \n",
       "\n",
       "      pred_2018  yearly_trend_calc_2017  pred_2017  yearly_trend_calc_2016  \\\n",
       "2256      73.03                   -9.85      55.43                   36.44   \n",
       "2257     102.76                   12.33      85.63                   58.78   \n",
       "2258     113.04                   -7.37      96.13                   33.98   \n",
       "2259      79.18                  -52.24      61.74                   -2.12   \n",
       "2260      74.54                  -22.29      57.27                   23.35   \n",
       "\n",
       "      pred_2016  yearly_trend_calc_2015  pred_2015  yearly_trend_calc_2014  \\\n",
       "2256     211.74                   23.84     171.30                    9.11   \n",
       "2257     242.82                   45.36     200.45                   24.48   \n",
       "2258     249.00                   22.05     206.20                   -1.30   \n",
       "2259     218.94                  -13.61     176.18                  -27.23   \n",
       "2260     214.22                   12.61     172.27                   -9.00   \n",
       "\n",
       "      pred_2014  num_harmed  \n",
       "2256      66.41         nan  \n",
       "2257      93.01         nan  \n",
       "2258      93.77         nan  \n",
       "2259      68.54         nan  \n",
       "2260      61.48         nan  "
      ]
     },
     "execution_count": 11,
     "metadata": {},
     "output_type": "execute_result"
    }
   ],
   "source": [
    "d3_data.tail(5)"
   ]
  },
  {
   "cell_type": "code",
   "execution_count": 12,
   "metadata": {},
   "outputs": [],
   "source": [
    "# harmed_forecast.columns"
   ]
  },
  {
   "cell_type": "code",
   "execution_count": 13,
   "metadata": {},
   "outputs": [],
   "source": [
    "# harmed_prophet.changepoints[:5]"
   ]
  },
  {
   "cell_type": "code",
   "execution_count": 14,
   "metadata": {},
   "outputs": [],
   "source": [
    "# exporting harmed_forecast predictions to assets repository for d3.js visualization\n",
    "d3_data = d3_data.reset_index()\n",
    "\n",
    "d3_data.loc[d3_data['index']>=d3_data[d3_data['date']==d3_data[d3_data['num_harmed'].isnull()]['date'].min()].index.values[0], 'non_observation'] = 1\n",
    "d3_data['year'] = d3_data['date'].dt.year\n",
    "\n",
    "d3_data.loc[(d3_data['date'].dt.day==1) & (d3_data['date'].dt.month==1), 'nyd'] = 1\n",
    "for i, new_years in enumerate(list(d3_data[d3_data['nyd']==1].index.values)):\n",
    "    d3_data.loc[new_years, 'nyd'] = i\n",
    "\n",
    "d3_data.to_csv('../cyaris.github.io/assets/us_harmed_victim_forecast_data.csv')"
   ]
  },
  {
   "cell_type": "code",
   "execution_count": 15,
   "metadata": {},
   "outputs": [
    {
     "data": {
      "text/plain": [
       "Index(['index', 'date', 'yearly_trend_calc_2019', 'pred_2019',\n",
       "       'yearly_trend_calc_2018', 'pred_2018', 'yearly_trend_calc_2017',\n",
       "       'pred_2017', 'yearly_trend_calc_2016', 'pred_2016',\n",
       "       'yearly_trend_calc_2015', 'pred_2015', 'yearly_trend_calc_2014',\n",
       "       'pred_2014', 'num_harmed', 'non_observation', 'year', 'nyd'],\n",
       "      dtype='object')"
      ]
     },
     "execution_count": 15,
     "metadata": {},
     "output_type": "execute_result"
    }
   ],
   "source": [
    "d3_data.columns"
   ]
  },
  {
   "cell_type": "code",
   "execution_count": 16,
   "metadata": {},
   "outputs": [
    {
     "data": {
      "text/html": [
       "<div>\n",
       "<style scoped>\n",
       "    .dataframe tbody tr th:only-of-type {\n",
       "        vertical-align: middle;\n",
       "    }\n",
       "\n",
       "    .dataframe tbody tr th {\n",
       "        vertical-align: top;\n",
       "    }\n",
       "\n",
       "    .dataframe thead th {\n",
       "        text-align: right;\n",
       "    }\n",
       "</style>\n",
       "<table border=\"1\" class=\"dataframe\">\n",
       "  <thead>\n",
       "    <tr style=\"text-align: right;\">\n",
       "      <th></th>\n",
       "      <th>index</th>\n",
       "      <th>date</th>\n",
       "      <th>yearly_trend_calc_2019</th>\n",
       "      <th>pred_2019</th>\n",
       "      <th>yearly_trend_calc_2018</th>\n",
       "      <th>pred_2018</th>\n",
       "      <th>yearly_trend_calc_2017</th>\n",
       "      <th>pred_2017</th>\n",
       "      <th>yearly_trend_calc_2016</th>\n",
       "      <th>pred_2016</th>\n",
       "      <th>yearly_trend_calc_2015</th>\n",
       "      <th>pred_2015</th>\n",
       "      <th>yearly_trend_calc_2014</th>\n",
       "      <th>pred_2014</th>\n",
       "      <th>num_harmed</th>\n",
       "      <th>non_observation</th>\n",
       "      <th>year</th>\n",
       "      <th>nyd</th>\n",
       "    </tr>\n",
       "  </thead>\n",
       "  <tbody>\n",
       "    <tr>\n",
       "      <th>0</th>\n",
       "      <td>0</td>\n",
       "      <td>2014-01-01</td>\n",
       "      <td>nan</td>\n",
       "      <td>89.42</td>\n",
       "      <td>nan</td>\n",
       "      <td>87.55</td>\n",
       "      <td>nan</td>\n",
       "      <td>89.09</td>\n",
       "      <td>nan</td>\n",
       "      <td>91.39</td>\n",
       "      <td>nan</td>\n",
       "      <td>95.65</td>\n",
       "      <td>nan</td>\n",
       "      <td>96.12</td>\n",
       "      <td>182.00</td>\n",
       "      <td>nan</td>\n",
       "      <td>2014</td>\n",
       "      <td>0.00</td>\n",
       "    </tr>\n",
       "    <tr>\n",
       "      <th>1</th>\n",
       "      <td>1</td>\n",
       "      <td>2014-01-02</td>\n",
       "      <td>nan</td>\n",
       "      <td>84.83</td>\n",
       "      <td>nan</td>\n",
       "      <td>82.49</td>\n",
       "      <td>nan</td>\n",
       "      <td>83.37</td>\n",
       "      <td>nan</td>\n",
       "      <td>85.83</td>\n",
       "      <td>nan</td>\n",
       "      <td>90.55</td>\n",
       "      <td>nan</td>\n",
       "      <td>89.84</td>\n",
       "      <td>77.00</td>\n",
       "      <td>nan</td>\n",
       "      <td>2014</td>\n",
       "      <td>nan</td>\n",
       "    </tr>\n",
       "    <tr>\n",
       "      <th>2</th>\n",
       "      <td>2</td>\n",
       "      <td>2014-01-03</td>\n",
       "      <td>nan</td>\n",
       "      <td>90.47</td>\n",
       "      <td>nan</td>\n",
       "      <td>88.72</td>\n",
       "      <td>nan</td>\n",
       "      <td>90.15</td>\n",
       "      <td>nan</td>\n",
       "      <td>92.60</td>\n",
       "      <td>nan</td>\n",
       "      <td>96.25</td>\n",
       "      <td>nan</td>\n",
       "      <td>99.81</td>\n",
       "      <td>96.00</td>\n",
       "      <td>nan</td>\n",
       "      <td>2014</td>\n",
       "      <td>nan</td>\n",
       "    </tr>\n",
       "  </tbody>\n",
       "</table>\n",
       "</div>"
      ],
      "text/plain": [
       "   index       date  yearly_trend_calc_2019  pred_2019  \\\n",
       "0      0 2014-01-01                     nan      89.42   \n",
       "1      1 2014-01-02                     nan      84.83   \n",
       "2      2 2014-01-03                     nan      90.47   \n",
       "\n",
       "   yearly_trend_calc_2018  pred_2018  yearly_trend_calc_2017  pred_2017  \\\n",
       "0                     nan      87.55                     nan      89.09   \n",
       "1                     nan      82.49                     nan      83.37   \n",
       "2                     nan      88.72                     nan      90.15   \n",
       "\n",
       "   yearly_trend_calc_2016  pred_2016  yearly_trend_calc_2015  pred_2015  \\\n",
       "0                     nan      91.39                     nan      95.65   \n",
       "1                     nan      85.83                     nan      90.55   \n",
       "2                     nan      92.60                     nan      96.25   \n",
       "\n",
       "   yearly_trend_calc_2014  pred_2014  num_harmed  non_observation  year  nyd  \n",
       "0                     nan      96.12      182.00              nan  2014 0.00  \n",
       "1                     nan      89.84       77.00              nan  2014  nan  \n",
       "2                     nan      99.81       96.00              nan  2014  nan  "
      ]
     },
     "execution_count": 16,
     "metadata": {},
     "output_type": "execute_result"
    }
   ],
   "source": [
    "d3_data.head(3)"
   ]
  },
  {
   "cell_type": "code",
   "execution_count": null,
   "metadata": {},
   "outputs": [],
   "source": []
  }
 ],
 "metadata": {
  "kernelspec": {
   "display_name": "Python 3",
   "language": "python",
   "name": "python3"
  },
  "language_info": {
   "codemirror_mode": {
    "name": "ipython",
    "version": 3
   },
   "file_extension": ".py",
   "mimetype": "text/x-python",
   "name": "python",
   "nbconvert_exporter": "python",
   "pygments_lexer": "ipython3",
   "version": "3.7.2"
  }
 },
 "nbformat": 4,
 "nbformat_minor": 2
}
