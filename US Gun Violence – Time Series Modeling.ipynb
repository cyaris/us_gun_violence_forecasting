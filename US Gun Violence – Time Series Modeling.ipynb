{
 "cells": [
  {
   "cell_type": "code",
   "execution_count": 17,
   "metadata": {},
   "outputs": [],
   "source": [
    "import pandas as pd\n",
    "import numpy as np\n",
    "from fbprophet import Prophet\n",
    "import statsmodels.api as sm\n",
    "import matplotlib.pyplot as plt\n",
    "from pylab import rcParams\n",
    "import itertools\n",
    "from copy import deepcopy"
   ]
  },
  {
   "cell_type": "code",
   "execution_count": 18,
   "metadata": {},
   "outputs": [],
   "source": [
    "from warnings import filterwarnings\n",
    "\n",
    "filterwarnings('ignore')"
   ]
  },
  {
   "cell_type": "code",
   "execution_count": 19,
   "metadata": {},
   "outputs": [],
   "source": [
    "pd.set_option('display.float_format', lambda x: '%.2f' % x)\n",
    "pd.set_option('display.max_columns', None)\n",
    "# pd.set_option('display.max_colwidth', 1000)"
   ]
  },
  {
   "cell_type": "code",
   "execution_count": 20,
   "metadata": {},
   "outputs": [],
   "source": [
    "df_date = pd.read_pickle('Pickles/df_date_2.pkl')\n",
    "# creating a field for victims not including those \"unharmed\"\n",
    "df_date['num_harmed'] = df_date['num_killed'] + df_date['num_injured']\n",
    "df_date = df_date[['date', 'num_harmed']]\n",
    "df_date = deepcopy(df_date[df_date['date'].dt.year >= 2014].reset_index())\n",
    "df_date.drop('index', axis = 1, inplace = True)\n",
    "df_date = df_date[['date', 'num_harmed']]"
   ]
  },
  {
   "cell_type": "code",
   "execution_count": 21,
   "metadata": {},
   "outputs": [
    {
     "data": {
      "text/plain": [
       "True"
      ]
     },
     "execution_count": 21,
     "metadata": {},
     "output_type": "execute_result"
    }
   ],
   "source": [
    "set(list(df_date.isnull().sum().values))=={0}"
   ]
  },
  {
   "cell_type": "code",
   "execution_count": 22,
   "metadata": {},
   "outputs": [
    {
     "data": {
      "text/plain": [
       "2016    366\n",
       "2017    365\n",
       "2015    365\n",
       "2014    365\n",
       "2018     90\n",
       "Name: date, dtype: int64"
      ]
     },
     "execution_count": 22,
     "metadata": {},
     "output_type": "execute_result"
    }
   ],
   "source": [
    "df_date['date'].dt.year.value_counts()"
   ]
  },
  {
   "cell_type": "code",
   "execution_count": 23,
   "metadata": {},
   "outputs": [
    {
     "name": "stdout",
     "output_type": "stream",
     "text": [
      "{2014: 1551, 2015: 1186, 2016: 820, 2017: 455, 2018: 365}\n"
     ]
    }
   ],
   "source": [
    "future_dataframe_lengths = {}\n",
    "for year in df_date['date'].dt.year.unique():\n",
    "    try:\n",
    "        future_dataframe_lengths[year] = len(pd.period_range(min(df_date[df_date['date'].dt.year==year+1]['date']), max(df_date['date']))) + 365\n",
    "    except:\n",
    "        future_dataframe_lengths[year] = 365\n",
    "\n",
    "print(future_dataframe_lengths)"
   ]
  },
  {
   "cell_type": "code",
   "execution_count": 24,
   "metadata": {
    "code_folding": []
   },
   "outputs": [],
   "source": [
    "for i, year in enumerate(df_date['date'].dt.year.unique()):\n",
    "    df_date.rename({'date': 'ds', 'num_harmed': 'y'}, axis = 1, inplace = True)\n",
    "    harmed_prophet = Prophet(changepoint_prior_scale = 0.5, daily_seasonality = True, yearly_seasonality = True)\n",
    "    harmed_prophet.fit(df_date[df_date['ds'].dt.year <= year])\n",
    "    harmed_forecast = harmed_prophet.make_future_dataframe(periods=future_dataframe_lengths[year], freq='D')\n",
    "    harmed_forecast = harmed_prophet.predict(harmed_forecast)\n",
    "    harmed_forecast.rename({'ds': 'date', 'yhat': 'pred_' + str(year)}, axis = 1, inplace = True)\n",
    "    df_date.rename({'ds': 'date', 'y': 'num_harmed'}, axis = 1, inplace = True)\n",
    "    if i==0:\n",
    "        d3_data = pd.merge(harmed_forecast[['date', 'pred_' + str(year)]], df_date, on = 'date', how='outer')\n",
    "    else:\n",
    "        d3_data = pd.merge(harmed_forecast[['date', 'pred_' + str(year)]], d3_data, on = 'date', how='outer')"
   ]
  },
  {
   "cell_type": "code",
   "execution_count": 25,
   "metadata": {},
   "outputs": [],
   "source": [
    "keep_index = list(d3_data.iloc[0::10, :].index.values)\n",
    "\n",
    "for column in d3_data.columns:\n",
    "    if 'pred' in column:\n",
    "        for i, index_value in enumerate(d3_data.index.values):\n",
    "            if i not in keep_index:\n",
    "                d3_data.loc[i, column] = None\n",
    "        d3_data[column] = d3_data[column].interpolate(method = 'cubic')\n",
    "        d3_data[column] = d3_data[column].ffill()"
   ]
  },
  {
   "cell_type": "code",
   "execution_count": 26,
   "metadata": {},
   "outputs": [
    {
     "data": {
      "text/html": [
       "<div>\n",
       "<style scoped>\n",
       "    .dataframe tbody tr th:only-of-type {\n",
       "        vertical-align: middle;\n",
       "    }\n",
       "\n",
       "    .dataframe tbody tr th {\n",
       "        vertical-align: top;\n",
       "    }\n",
       "\n",
       "    .dataframe thead th {\n",
       "        text-align: right;\n",
       "    }\n",
       "</style>\n",
       "<table border=\"1\" class=\"dataframe\">\n",
       "  <thead>\n",
       "    <tr style=\"text-align: right;\">\n",
       "      <th></th>\n",
       "      <th>date</th>\n",
       "      <th>pred_2018</th>\n",
       "      <th>pred_2017</th>\n",
       "      <th>pred_2016</th>\n",
       "      <th>pred_2015</th>\n",
       "      <th>pred_2014</th>\n",
       "      <th>num_harmed</th>\n",
       "    </tr>\n",
       "  </thead>\n",
       "  <tbody>\n",
       "    <tr>\n",
       "      <th>1906</th>\n",
       "      <td>2019-03-22</td>\n",
       "      <td>120.82</td>\n",
       "      <td>115.49</td>\n",
       "      <td>234.21</td>\n",
       "      <td>181.68</td>\n",
       "      <td>102.60</td>\n",
       "      <td>nan</td>\n",
       "    </tr>\n",
       "    <tr>\n",
       "      <th>1907</th>\n",
       "      <td>2019-03-23</td>\n",
       "      <td>115.88</td>\n",
       "      <td>110.54</td>\n",
       "      <td>228.65</td>\n",
       "      <td>176.66</td>\n",
       "      <td>97.61</td>\n",
       "      <td>nan</td>\n",
       "    </tr>\n",
       "    <tr>\n",
       "      <th>1908</th>\n",
       "      <td>2019-03-24</td>\n",
       "      <td>108.58</td>\n",
       "      <td>103.19</td>\n",
       "      <td>220.66</td>\n",
       "      <td>169.42</td>\n",
       "      <td>90.48</td>\n",
       "      <td>nan</td>\n",
       "    </tr>\n",
       "    <tr>\n",
       "      <th>1909</th>\n",
       "      <td>2019-03-25</td>\n",
       "      <td>98.67</td>\n",
       "      <td>93.19</td>\n",
       "      <td>210.01</td>\n",
       "      <td>159.72</td>\n",
       "      <td>80.98</td>\n",
       "      <td>nan</td>\n",
       "    </tr>\n",
       "    <tr>\n",
       "      <th>1910</th>\n",
       "      <td>2019-03-26</td>\n",
       "      <td>85.91</td>\n",
       "      <td>80.31</td>\n",
       "      <td>196.46</td>\n",
       "      <td>147.36</td>\n",
       "      <td>68.91</td>\n",
       "      <td>nan</td>\n",
       "    </tr>\n",
       "    <tr>\n",
       "      <th>1911</th>\n",
       "      <td>2019-03-27</td>\n",
       "      <td>85.91</td>\n",
       "      <td>80.31</td>\n",
       "      <td>196.46</td>\n",
       "      <td>147.36</td>\n",
       "      <td>68.91</td>\n",
       "      <td>nan</td>\n",
       "    </tr>\n",
       "    <tr>\n",
       "      <th>1912</th>\n",
       "      <td>2019-03-28</td>\n",
       "      <td>85.91</td>\n",
       "      <td>80.31</td>\n",
       "      <td>196.46</td>\n",
       "      <td>147.36</td>\n",
       "      <td>68.91</td>\n",
       "      <td>nan</td>\n",
       "    </tr>\n",
       "    <tr>\n",
       "      <th>1913</th>\n",
       "      <td>2019-03-29</td>\n",
       "      <td>85.91</td>\n",
       "      <td>80.31</td>\n",
       "      <td>196.46</td>\n",
       "      <td>147.36</td>\n",
       "      <td>68.91</td>\n",
       "      <td>nan</td>\n",
       "    </tr>\n",
       "    <tr>\n",
       "      <th>1914</th>\n",
       "      <td>2019-03-30</td>\n",
       "      <td>85.91</td>\n",
       "      <td>80.31</td>\n",
       "      <td>196.46</td>\n",
       "      <td>147.36</td>\n",
       "      <td>68.91</td>\n",
       "      <td>nan</td>\n",
       "    </tr>\n",
       "    <tr>\n",
       "      <th>1915</th>\n",
       "      <td>2019-03-31</td>\n",
       "      <td>85.91</td>\n",
       "      <td>80.31</td>\n",
       "      <td>196.46</td>\n",
       "      <td>147.36</td>\n",
       "      <td>68.91</td>\n",
       "      <td>nan</td>\n",
       "    </tr>\n",
       "  </tbody>\n",
       "</table>\n",
       "</div>"
      ],
      "text/plain": [
       "           date  pred_2018  pred_2017  pred_2016  pred_2015  pred_2014  \\\n",
       "1906 2019-03-22     120.82     115.49     234.21     181.68     102.60   \n",
       "1907 2019-03-23     115.88     110.54     228.65     176.66      97.61   \n",
       "1908 2019-03-24     108.58     103.19     220.66     169.42      90.48   \n",
       "1909 2019-03-25      98.67      93.19     210.01     159.72      80.98   \n",
       "1910 2019-03-26      85.91      80.31     196.46     147.36      68.91   \n",
       "1911 2019-03-27      85.91      80.31     196.46     147.36      68.91   \n",
       "1912 2019-03-28      85.91      80.31     196.46     147.36      68.91   \n",
       "1913 2019-03-29      85.91      80.31     196.46     147.36      68.91   \n",
       "1914 2019-03-30      85.91      80.31     196.46     147.36      68.91   \n",
       "1915 2019-03-31      85.91      80.31     196.46     147.36      68.91   \n",
       "\n",
       "      num_harmed  \n",
       "1906         nan  \n",
       "1907         nan  \n",
       "1908         nan  \n",
       "1909         nan  \n",
       "1910         nan  \n",
       "1911         nan  \n",
       "1912         nan  \n",
       "1913         nan  \n",
       "1914         nan  \n",
       "1915         nan  "
      ]
     },
     "execution_count": 26,
     "metadata": {},
     "output_type": "execute_result"
    }
   ],
   "source": [
    "d3_data.tail(10)"
   ]
  },
  {
   "cell_type": "code",
   "execution_count": 27,
   "metadata": {},
   "outputs": [],
   "source": [
    "# harmed_forecast.columns"
   ]
  },
  {
   "cell_type": "code",
   "execution_count": 28,
   "metadata": {},
   "outputs": [],
   "source": [
    "# harmed_prophet.changepoints[:5]"
   ]
  },
  {
   "cell_type": "code",
   "execution_count": 29,
   "metadata": {},
   "outputs": [],
   "source": [
    "# exporting harmed_forecast predictions to assets repository for d3.js visualization\n",
    "num_incidents_df = pd.read_pickle('Pickles/df_date_2.pkl')\n",
    "num_incidents_df = num_incidents_df[['date', 'num_incidents']]\n",
    "num_incidents_df.rename({'ds': 'date'}, axis = 1, inplace = True)\n",
    "d3_data = pd.merge(d3_data, num_incidents_df, on = 'date', how='left')\n",
    "d3_data = d3_data.reset_index()\n",
    "\n",
    "d3_data.loc[d3_data['index']>=d3_data[d3_data['date']==d3_data[d3_data['num_harmed'].isnull()]['date'].min()].index.values[0], 'non_observation'] = 1\n",
    "d3_data['year'] = d3_data['date'].dt.year\n",
    "\n",
    "d3_data.loc[(d3_data['date'].dt.day==1) & (d3_data['date'].dt.month==1), 'nyd'] = 1\n",
    "for i, new_years in enumerate(list(d3_data[d3_data['nyd']==1].index.values)):\n",
    "    d3_data.loc[new_years, 'nyd'] = i\n",
    "\n",
    "d3_data.to_csv('../cyaris.github.io/assets/us_harmed_victim_forecast_data.csv')"
   ]
  },
  {
   "cell_type": "code",
   "execution_count": 30,
   "metadata": {},
   "outputs": [
    {
     "data": {
      "text/plain": [
       "Index(['index', 'date', 'pred_2018', 'pred_2017', 'pred_2016', 'pred_2015',\n",
       "       'pred_2014', 'num_harmed', 'num_incidents', 'non_observation', 'year',\n",
       "       'nyd'],\n",
       "      dtype='object')"
      ]
     },
     "execution_count": 30,
     "metadata": {},
     "output_type": "execute_result"
    }
   ],
   "source": [
    "d3_data.columns"
   ]
  },
  {
   "cell_type": "code",
   "execution_count": 31,
   "metadata": {},
   "outputs": [
    {
     "data": {
      "text/html": [
       "<div>\n",
       "<style scoped>\n",
       "    .dataframe tbody tr th:only-of-type {\n",
       "        vertical-align: middle;\n",
       "    }\n",
       "\n",
       "    .dataframe tbody tr th {\n",
       "        vertical-align: top;\n",
       "    }\n",
       "\n",
       "    .dataframe thead th {\n",
       "        text-align: right;\n",
       "    }\n",
       "</style>\n",
       "<table border=\"1\" class=\"dataframe\">\n",
       "  <thead>\n",
       "    <tr style=\"text-align: right;\">\n",
       "      <th></th>\n",
       "      <th>index</th>\n",
       "      <th>date</th>\n",
       "      <th>pred_2018</th>\n",
       "      <th>pred_2017</th>\n",
       "      <th>pred_2016</th>\n",
       "      <th>pred_2015</th>\n",
       "      <th>pred_2014</th>\n",
       "      <th>num_harmed</th>\n",
       "      <th>num_incidents</th>\n",
       "      <th>non_observation</th>\n",
       "      <th>year</th>\n",
       "      <th>nyd</th>\n",
       "    </tr>\n",
       "  </thead>\n",
       "  <tbody>\n",
       "    <tr>\n",
       "      <th>0</th>\n",
       "      <td>0</td>\n",
       "      <td>2014-01-01</td>\n",
       "      <td>88.05</td>\n",
       "      <td>90.30</td>\n",
       "      <td>93.17</td>\n",
       "      <td>94.80</td>\n",
       "      <td>96.13</td>\n",
       "      <td>182.00</td>\n",
       "      <td>198.00</td>\n",
       "      <td>nan</td>\n",
       "      <td>2014</td>\n",
       "      <td>0.00</td>\n",
       "    </tr>\n",
       "    <tr>\n",
       "      <th>1</th>\n",
       "      <td>1</td>\n",
       "      <td>2014-01-02</td>\n",
       "      <td>97.27</td>\n",
       "      <td>99.43</td>\n",
       "      <td>102.44</td>\n",
       "      <td>103.68</td>\n",
       "      <td>105.65</td>\n",
       "      <td>77.00</td>\n",
       "      <td>107.00</td>\n",
       "      <td>nan</td>\n",
       "      <td>2014</td>\n",
       "      <td>nan</td>\n",
       "    </tr>\n",
       "    <tr>\n",
       "      <th>2</th>\n",
       "      <td>2</td>\n",
       "      <td>2014-01-03</td>\n",
       "      <td>104.69</td>\n",
       "      <td>106.74</td>\n",
       "      <td>109.83</td>\n",
       "      <td>110.74</td>\n",
       "      <td>113.19</td>\n",
       "      <td>96.00</td>\n",
       "      <td>120.00</td>\n",
       "      <td>nan</td>\n",
       "      <td>2014</td>\n",
       "      <td>nan</td>\n",
       "    </tr>\n",
       "  </tbody>\n",
       "</table>\n",
       "</div>"
      ],
      "text/plain": [
       "   index       date  pred_2018  pred_2017  pred_2016  pred_2015  pred_2014  \\\n",
       "0      0 2014-01-01      88.05      90.30      93.17      94.80      96.13   \n",
       "1      1 2014-01-02      97.27      99.43     102.44     103.68     105.65   \n",
       "2      2 2014-01-03     104.69     106.74     109.83     110.74     113.19   \n",
       "\n",
       "   num_harmed  num_incidents  non_observation  year  nyd  \n",
       "0      182.00         198.00              nan  2014 0.00  \n",
       "1       77.00         107.00              nan  2014  nan  \n",
       "2       96.00         120.00              nan  2014  nan  "
      ]
     },
     "execution_count": 31,
     "metadata": {},
     "output_type": "execute_result"
    }
   ],
   "source": [
    "d3_data.head(3)"
   ]
  },
  {
   "cell_type": "code",
   "execution_count": null,
   "metadata": {},
   "outputs": [],
   "source": []
  }
 ],
 "metadata": {
  "kernelspec": {
   "display_name": "Python 3",
   "language": "python",
   "name": "python3"
  },
  "language_info": {
   "codemirror_mode": {
    "name": "ipython",
    "version": 3
   },
   "file_extension": ".py",
   "mimetype": "text/x-python",
   "name": "python",
   "nbconvert_exporter": "python",
   "pygments_lexer": "ipython3",
   "version": "3.7.2"
  }
 },
 "nbformat": 4,
 "nbformat_minor": 2
}
