{
 "cells": [
  {
   "cell_type": "code",
   "execution_count": null,
   "metadata": {},
   "outputs": [],
   "source": [
    "import pandas as pd\n",
    "import numpy as np\n",
    "import matplotlib.pyplot as plt\n",
    "from fbprophet import Prophet\n",
    "from copy import deepcopy"
   ]
  },
  {
   "cell_type": "code",
   "execution_count": null,
   "metadata": {},
   "outputs": [],
   "source": [
    "df_date = pd.read_pickle('Pickles/df_date_2.pkl')\n",
    "# df_date = df_date.reset_index()\n",
    "# df_date.drop('index', axis = 1, inplace = True)\n",
    "df_date = deepcopy(df_date[df_date['date'].dt.year >= 2014])"
   ]
  },
  {
   "cell_type": "code",
   "execution_count": null,
   "metadata": {},
   "outputs": [],
   "source": [
    "df_date['date'].dt.year.value_counts()"
   ]
  },
  {
   "cell_type": "code",
   "execution_count": null,
   "metadata": {
    "scrolled": true
   },
   "outputs": [],
   "source": [
    "df_date.columns"
   ]
  },
  {
   "cell_type": "code",
   "execution_count": null,
   "metadata": {},
   "outputs": [],
   "source": [
    "df_date.rename({'date': 'ds', 'num_victims': 'y'}, axis = 1, inplace = True)\n",
    "df_date = df_date[['ds', 'y']]\n",
    "victim_prophet = Prophet(changepoint_prior_scale = 0.05)\n",
    "victim_prophet.fit(df_date)"
   ]
  },
  {
   "cell_type": "code",
   "execution_count": null,
   "metadata": {},
   "outputs": [],
   "source": [
    "victim_forecast = victim_prophet.make_future_dataframe(periods=365 * 2, freq='D')\n",
    "victim_forecast = victim_prophet.predict(victim_forecast)"
   ]
  },
  {
   "cell_type": "code",
   "execution_count": null,
   "metadata": {},
   "outputs": [],
   "source": [
    "victim_forecast.head()"
   ]
  },
  {
   "cell_type": "code",
   "execution_count": null,
   "metadata": {},
   "outputs": [],
   "source": [
    "victim_prophet.plot(victim_forecast, xlabel = 'Date', ylabel = 'Gun Violence Victims')\n",
    "plt.title('US Gun Violence Victims Forecasting');"
   ]
  },
  {
   "cell_type": "code",
   "execution_count": null,
   "metadata": {},
   "outputs": [],
   "source": [
    "# Try 4 different changepoints\n",
    "for changepoint in [0.001, 0.05, 0.1, 0.5]:\n",
    "    model = Prophet(daily_seasonality = False, changepoint_prior_scale = changepoint)\n",
    "    model.fit(df_date)\n",
    "    future = model.make_future_dataframe(periods=365, freq='D')\n",
    "    future = model.predict(future)\n",
    "    victim_forecast[changepoint] = future['yhat']"
   ]
  },
  {
   "cell_type": "code",
   "execution_count": null,
   "metadata": {},
   "outputs": [],
   "source": [
    "# Create the plot\n",
    "plt.figure(figsize=(10, 8))\n",
    "# Actual observations\n",
    "plt.plot(victim_forecast['ds'], victim_forecast['y'], 'ko', label = 'Observations')\n",
    "colors = {0.001: 'b', 0.05: 'r', 0.1: 'grey', 0.5: 'gold'}\n",
    "\n",
    "# Plot each of the changepoint predictions\n",
    "for changepoint in [0.001, 0.05, 0.1, 0.5]:\n",
    "    plt.plot(victim_forecast['ds'], victim_forecast[changepoint], color = colors[changepoint], label = '%.3f prior scale' % changepoint)\n",
    "    \n",
    "plt.legend(prop={'size': 14})\n",
    "plt.xlabel('Date'); plt.ylabel('Gun Violence Victims'); plt.title('Effect of Changepoint Prior Scale');"
   ]
  },
  {
   "cell_type": "code",
   "execution_count": null,
   "metadata": {},
   "outputs": [],
   "source": [
    "victim_prophet.changepoints[:10]"
   ]
  },
  {
   "cell_type": "code",
   "execution_count": null,
   "metadata": {},
   "outputs": [],
   "source": [
    "victim_forecast.head()"
   ]
  },
  {
   "cell_type": "code",
   "execution_count": null,
   "metadata": {},
   "outputs": [],
   "source": [
    "# Create subplots to set figure size\n",
    "fig, ax = plt.subplots(1, 1, figsize=(10, 8))\n",
    "# Plot estimate\n",
    "ax.plot(victim_forecast['ds'], victim_forecast['yhat'], label = 'victim prediction')\n",
    "# Plot uncertainty values\n",
    "ax.fill_between(victim_forecast['ds'].dt.to_pydatetime(), victim_forecast['yhat_upper'], victim_forecast['yhat_lower'], alpha=0.6, edgecolor = 'k')\n",
    "plt.xlabel('Date')\n",
    "plt.ylabel('Gun Violence Victims')\n",
    "plt.title('Gun Violence Victim Forecasting with Uncertainty')\n",
    "plt.legend();"
   ]
  },
  {
   "cell_type": "code",
   "execution_count": null,
   "metadata": {},
   "outputs": [],
   "source": []
  }
 ],
 "metadata": {
  "kernelspec": {
   "display_name": "Python 3",
   "language": "python",
   "name": "python3"
  },
  "language_info": {
   "codemirror_mode": {
    "name": "ipython",
    "version": 3
   },
   "file_extension": ".py",
   "mimetype": "text/x-python",
   "name": "python",
   "nbconvert_exporter": "python",
   "pygments_lexer": "ipython3",
   "version": "3.7.1"
  }
 },
 "nbformat": 4,
 "nbformat_minor": 2
}
