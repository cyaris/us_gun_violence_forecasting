{
 "cells": [
  {
   "cell_type": "code",
   "execution_count": 1,
   "metadata": {},
   "outputs": [],
   "source": [
    "import pandas as pd\n",
    "import numpy as np\n",
    "import pickle as pkl\n",
    "from copy import deepcopy"
   ]
  },
  {
   "cell_type": "code",
   "execution_count": 2,
   "metadata": {},
   "outputs": [],
   "source": [
    "pd.set_option('display.float_format', lambda x: '%.2f' % x)\n",
    "pd.set_option('display.max_columns', None)\n",
    "pd.set_option('display.max_colwidth', 1000)"
   ]
  },
  {
   "cell_type": "code",
   "execution_count": 3,
   "metadata": {},
   "outputs": [],
   "source": [
    "df = pd.read_csv('../Data Sources/gun_violence_archive_github_download.csv')\n",
    "\n",
    "original_incident_ids = list(df['incident_id'])\n",
    "with open('../Pickles/original_incident_ids.pkl', 'wb') as f:\n",
    "    pkl.dump(original_incident_ids, f)\n",
    "    \n",
    "df['participant_type'] = df['participant_type'].replace('\\|', ':', regex = True).str.split(\":\")\n",
    "df['participant_status'] = df['participant_status'].replace('\\|', ':', regex = True).str.split(\":\")\n",
    "df['participant_gender'] = df['participant_gender'].replace('\\|', ':', regex = True).str.split(\":\")\n",
    "df['participant_age'] = df['participant_age'].replace('\\|', ':', regex = True).str.split(\":\")\n",
    "\n",
    "df['scraped'] = False\n",
    "\n",
    "df.rename({'n_guns_involved': 'num_guns_involved'}, axis = 1, inplace = True)\n",
    "df.drop(['n_killed', 'n_injured', 'source_url', 'incident_url_fields_missing'], axis = 1, inplace = True)"
   ]
  },
  {
   "cell_type": "code",
   "execution_count": 4,
   "metadata": {},
   "outputs": [
    {
     "data": {
      "text/plain": [
       "239677"
      ]
     },
     "execution_count": 4,
     "metadata": {},
     "output_type": "execute_result"
    }
   ],
   "source": [
    "len(df)"
   ]
  },
  {
   "cell_type": "code",
   "execution_count": 5,
   "metadata": {},
   "outputs": [
    {
     "name": "stdout",
     "output_type": "stream",
     "text": [
      "200.00    62581\n",
      "Name: page_response_code, dtype: int64\n"
     ]
    }
   ],
   "source": [
    "df_scraped = pd.read_csv('../Data Sources/gun_violence_archive_scraped_full_2.csv')\n",
    "\n",
    "print(df_scraped['page_response_code'].value_counts())\n",
    "df_scraped = deepcopy(df_scraped[df_scraped['page_response_code']==200].reset_index())\n",
    "df_scraped['page_response_code'] = df_scraped['page_response_code'].astype(int)\n",
    "df_scraped.drop(['index', 'page_response_code', 'Unnamed: 0', 'Unnamed: 0.1'], axis = 1, inplace = True)\n",
    "\n",
    "df_scraped['participant_status'] = df_scraped['participant_status'].replace(\", A\", \",A\", regex = True)\n",
    "df_scraped['participant_status'] = df_scraped['participant_status'].replace(\", U\", \",U\", regex = True)\n",
    "df_scraped['participant_status'] = df_scraped['participant_status'].replace(\", K\", \",K\", regex = True)\n",
    "df_scraped['participant_status'] = df_scraped['participant_status'].replace(\", I\", \",I\", regex = True)\n",
    "for column in df_scraped.columns:\n",
    "    if 'participant' in column:\n",
    "        df_scraped[column] = df_scraped[column].replace(\"'\", '', regex = True)\n",
    "        df_scraped[column] = df_scraped[column].str.split(', ')\n",
    "\n",
    "df_scraped['scraped'] = True\n",
    "\n",
    "df = deepcopy(pd.concat([df, df_scraped], sort=False))"
   ]
  },
  {
   "cell_type": "code",
   "execution_count": 6,
   "metadata": {},
   "outputs": [
    {
     "data": {
      "text/plain": [
       "302258"
      ]
     },
     "execution_count": 6,
     "metadata": {},
     "output_type": "execute_result"
    }
   ],
   "source": [
    "len(df)"
   ]
  },
  {
   "cell_type": "code",
   "execution_count": 7,
   "metadata": {},
   "outputs": [],
   "source": [
    "df['date'] = pd.to_datetime(df['date'])\n",
    "df = df.sort_values(by=['date', 'incident_id', 'scraped'], ascending=True)"
   ]
  },
  {
   "cell_type": "code",
   "execution_count": 8,
   "metadata": {},
   "outputs": [
    {
     "data": {
      "text/plain": [
       "Index(['incident_id', 'date', 'state', 'city_or_county', 'address',\n",
       "       'incident_url', 'congressional_district', 'gun_stolen', 'gun_type',\n",
       "       'incident_characteristics', 'latitude', 'location_description',\n",
       "       'longitude', 'num_guns_involved', 'notes', 'participant_age',\n",
       "       'participant_age_group', 'participant_gender', 'participant_name',\n",
       "       'participant_relationship', 'participant_status', 'participant_type',\n",
       "       'sources', 'state_house_district', 'state_senate_district', 'scraped'],\n",
       "      dtype='object')"
      ]
     },
     "execution_count": 8,
     "metadata": {},
     "output_type": "execute_result"
    }
   ],
   "source": [
    "df.columns"
   ]
  },
  {
   "cell_type": "code",
   "execution_count": 9,
   "metadata": {},
   "outputs": [
    {
     "name": "stdout",
     "output_type": "stream",
     "text": [
      "30432 rows removed from removing null participant_type rows.\n",
      "2695 rows removed from dropping literal duplicates.\n",
      "242 rows removed from dropping suspected duplicates. (Duplicate pages with different incident IDs.)\n",
      "\t\t\t\t\t\t   This occurs when GVA deletes a pages and reposts it.\n",
      "\n",
      "2331 scraped pages within the id range of our original pages.\n",
      "3176 scraped pages within the date range of our original pages.\n"
     ]
    }
   ],
   "source": [
    "before = len(df)\n",
    "####################################################################################\n",
    "df = deepcopy(df[df['participant_type'].isnull()==False].reset_index())\n",
    "df.drop('index', axis = 1, inplace = True)\n",
    "####################################################################################\n",
    "after = len(df)\n",
    "print(str(before-after) + \" rows removed from removing null participant_type rows.\")\n",
    "\n",
    "before = len(df)\n",
    "####################################################################################\n",
    "duplicate_list = ['incident_id']\n",
    "df.drop_duplicates(subset = duplicate_list, keep = 'last', inplace = True)\n",
    "####################################################################################\n",
    "after = len(df)\n",
    "print(str(before-after) + \" rows removed from dropping literal duplicates.\")\n",
    "\n",
    "before = len(df)\n",
    "####################################################################################\n",
    "duplicate_list = ['date', 'state', 'city_or_county', 'address', 'incident_characteristics', 'notes']\n",
    "df.drop_duplicates(subset = duplicate_list, keep = 'last', inplace = True)\n",
    "####################################################################################\n",
    "after = len(df)\n",
    "print(str(before-after) + \" rows removed from dropping suspected duplicates. (Duplicate pages with different incident IDs.)\\n\\t\\t\\t\\t\\t\\t   This occurs when GVA deletes a pages and reposts it.\\n\")\n",
    "\n",
    "# how many of our scraped pages fall in the id range of our original pages?\n",
    "# value was 251 on 4/20, beginning of backtrack scrape through original id range\n",
    "print(str(len(df[(df['incident_id'] >= int(df[df['scraped']==False]['incident_id'].min())) & (df['incident_id'] <= int(df[df['scraped']==False]['incident_id'].max())) & (df['scraped']==True)])) + \" scraped pages within the id range of our original pages.\")\n",
    "# value was 1,040 on 4/20, beginning of backtrack scrape through original id range\n",
    "print(str(len(df[(df['date'] >= df[df['scraped']==False]['date'].min()) & (df['date'] <= df[df['scraped']==False]['date'].max()) & (df['scraped']==True)])) + \" scraped pages within the date range of our original pages.\")"
   ]
  },
  {
   "cell_type": "code",
   "execution_count": 10,
   "metadata": {},
   "outputs": [
    {
     "name": "stdout",
     "output_type": "stream",
     "text": [
      "address                      18360\n",
      "congressional_district       12145\n",
      "gun_stolen                   90271\n",
      "gun_type                     90239\n",
      "incident_characteristics       266\n",
      "latitude                      8483\n",
      "location_description        221263\n",
      "longitude                     8483\n",
      "num_guns_involved            90239\n",
      "notes                        91236\n",
      "participant_age              65914\n",
      "participant_age_group        15956\n",
      "participant_gender           10769\n",
      "participant_name             95851\n",
      "participant_relationship    197156\n",
      "participant_status             977\n",
      "sources                        379\n",
      "state_house_district         36411\n",
      "state_senate_district        29681\n",
      "dtype: int64\n"
     ]
    }
   ],
   "source": [
    "null_columns = df.columns[df.isnull().any()]\n",
    "print(df[null_columns].isnull().sum())"
   ]
  },
  {
   "cell_type": "code",
   "execution_count": 11,
   "metadata": {},
   "outputs": [],
   "source": [
    "# null_participant_status_ids = list(set(df[df['participant_status'].isnull()]['incident_id']))\n",
    "\n",
    "# with open('null_participant_status_ids.pkl', 'wb') as f:\n",
    "#     pkl.dump(null_participant_status_ids, f)"
   ]
  },
  {
   "cell_type": "code",
   "execution_count": 12,
   "metadata": {},
   "outputs": [
    {
     "data": {
      "text/plain": [
       "977"
      ]
     },
     "execution_count": 12,
     "metadata": {},
     "output_type": "execute_result"
    }
   ],
   "source": [
    "len(df[df['participant_status'].isnull()])"
   ]
  },
  {
   "cell_type": "code",
   "execution_count": 13,
   "metadata": {},
   "outputs": [],
   "source": [
    "# df.loc[(['Killed' not in s and 'Injured' not in s and 'Unharmed' not in s and 'Arrested' not in s for s in df['participant_status'].astype(str)]), 'participant_status'] = None"
   ]
  },
  {
   "cell_type": "code",
   "execution_count": 14,
   "metadata": {},
   "outputs": [],
   "source": [
    "# len(df[df['participant_status'].isnull()])"
   ]
  },
  {
   "cell_type": "code",
   "execution_count": 15,
   "metadata": {},
   "outputs": [
    {
     "name": "stdout",
     "output_type": "stream",
     "text": [
      "977 total pages are missing participant_status values.\n",
      "\n",
      "Filling in victims killed for 470 initial pages.\n",
      "Filling in victims injured for 47 initial pages.\n",
      "Filling in suspects killed for 0 initial pages.\n",
      "Filling in suspects injured for 2 initial pages.\n",
      "\n",
      "197 pages where victims were inferred to have been killed don't list victims.\n",
      "4 pages where victims were inferred to have been injured don't list victims.\n",
      "0 pages where suspects were inferred to have been killed don't list suspects.\n",
      "0 pages where suspects were inferred to have been injured don't list suspects.\n",
      "\n",
      "Filling in victims killed for 470 pages.\n",
      "Filling in victims injured for 47 pages.\n",
      "Filling in suspects killed for 197 pages.\n",
      "Filling in suspects injured for 6 pages.\n",
      "\n",
      "Cannot infer missing participant_status for 19 pages.\n"
     ]
    }
   ],
   "source": [
    "df['incident_characteristics'] = df['incident_characteristics'].astype(str)\n",
    "# assertion that null participant_status values are only in the original scraped file\n",
    "# value will be 2 if this fails\n",
    "assert len(df[df['participant_status'].isnull()]['scraped'].value_counts().index)==1\n",
    "# Using incident_characteristics to infer participant_status\n",
    "# assumption for general killed/injury language is that it refers to the victim\n",
    "# this assumption is improved below improved where conditionals from both killed and both injured\n",
    "# go to the other list when there are only one recorded participant type\n",
    "# example: injury/death is for victim, but if only suspects are recorded,\n",
    "# it moves to the other list and says the subject died instead\n",
    "null_status_victim_killed = list(df.loc[\n",
    "    (df['participant_status'].isnull())\n",
    "    & (['Non-Shooting Incident' not in s for s in df['incident_characteristics']])\n",
    "    & ((['injury/death' in s and 'no injury/death' not in s for s in df['incident_characteristics']])\n",
    "       or (['Shot - Dead' in s for s in df['incident_characteristics']]))]['incident_id'].astype(int))\n",
    "\n",
    "null_status_suspect_killed = list(df.loc[\n",
    "    (df['participant_status'].isnull())\n",
    "    & (['Non-Shooting Incident' not in s for s in df['incident_characteristics']])\n",
    "    & ((['subject/suspect/perpetrator killed' in s for s in df['incident_characteristics']])\n",
    "       or (['Suicide^' in s for s in df['incident_characteristics']]))]['incident_id'].astype(int))\n",
    "\n",
    "null_status_victim_injured = list(df.loc[\n",
    "    (df['participant_status'].isnull())\n",
    "    & (['Non-Shooting Incident' not in s for s in df['incident_characteristics']])\n",
    "    & ((['injured' in s or 'Injured' in s for s in df['incident_characteristics']])\n",
    "       or (['wounded' in s or 'Wounded' in s for s in df['incident_characteristics']])\n",
    "       or (['Accidental Shooting - Injury' in s for s in df['incident_characteristics']]))]['incident_id'].astype(int))\n",
    "\n",
    "null_status_suspect_injured = list(df.loc[\n",
    "    (df['participant_status'].isnull())\n",
    "    & (['Non-Shooting Incident' not in s for s in df['incident_characteristics']])\n",
    "    & ((['subject/suspect/perpetrator shot' in s or 'subject/suspect/perpetrator injured' in s for s in df['incident_characteristics']]))]['incident_id'].astype(int))\n",
    "\n",
    "print(str(len(df[df['participant_status'].isnull()])) + \" total pages are missing participant_status values.\")\n",
    "print(\"\\nFilling in victims killed for \" + str(len(null_status_victim_killed)) + \" initial pages.\")\n",
    "print(\"Filling in victims injured for \" + str(len(null_status_victim_injured)) + \" initial pages.\")\n",
    "print(\"Filling in suspects killed for \" + str(len(null_status_suspect_killed)) + \" initial pages.\")\n",
    "print(\"Filling in suspects injured for \" + str(len(null_status_suspect_injured)) + \" initial pages.\\n\")\n",
    "\n",
    "suspect_id_list = list(set(df[(['Subject-Suspect' in s for s in df['participant_type']])]['incident_id'].astype(int)))\n",
    "victim_id_list = list(set(df[(['Victim' in s for s in df['participant_type']])]['incident_id'].astype(int)))\n",
    "\n",
    "filtered_list = list(set(null_status_victim_killed) - set(victim_id_list))\n",
    "print(str(len(filtered_list)) + \" pages where victims were inferred to have been killed don't list victims.\")\n",
    "if len(filtered_list)>0:\n",
    "    null_status_suspect_killed.extend(filtered_list)\n",
    "\n",
    "filtered_list = list(set(null_status_victim_injured) - set(victim_id_list))\n",
    "print(str(len(filtered_list)) + \" pages where victims were inferred to have been injured don't list victims.\")\n",
    "if len(filtered_list)>0:\n",
    "    null_status_suspect_injured.extend(filtered_list)\n",
    "\n",
    "filtered_list = list(set(null_status_suspect_killed) - set(suspect_id_list))\n",
    "print(str(len(filtered_list)) + \" pages where suspects were inferred to have been killed don't list suspects.\")\n",
    "if len(filtered_list)>0:\n",
    "    null_status_victim_killed.extend(filtered_list)\n",
    "\n",
    "filtered_list = list(set(null_status_suspect_injured) - set(suspect_id_list))\n",
    "print(str(len(filtered_list)) + \" pages where suspects were inferred to have been injured don't list suspects.\")\n",
    "if len(filtered_list)>0:\n",
    "    null_status_victim_injured.extend(filtered_list)\n",
    "\n",
    "print(\"\\nFilling in victims killed for \" + str(len(null_status_victim_killed)) + \" pages.\")\n",
    "print(\"Filling in victims injured for \" + str(len(null_status_victim_injured)) + \" pages.\")\n",
    "print(\"Filling in suspects killed for \" + str(len(null_status_suspect_killed)) + \" pages.\")\n",
    "print(\"Filling in suspects injured for \" + str(len(null_status_suspect_injured)) + \" pages.\")\n",
    "print(\"\\nCannot infer missing participant_status for \" + str(len(df[(df['participant_status'].isnull()) & (['Accidental Shooting' in s for s in df['incident_characteristics']])])) + \" pages.\")"
   ]
  },
  {
   "cell_type": "code",
   "execution_count": 16,
   "metadata": {},
   "outputs": [],
   "source": [
    "df['gun_stolen'] = df['gun_stolen'].astype(str)\n",
    "df['participant_relationship'] = df['participant_relationship'].astype(str)\n",
    "\n",
    "df.loc[(['Stolen' in s for s in df['gun_stolen']]) or\n",
    "       (['stolen' in s for s in df['gun_stolen']]) or\n",
    "       (['Gun(s) stolen' in s for s in df['incident_characteristics']]) or\n",
    "       (['Stolen/Illegally owned gun{s}' in s for s in df['incident_characteristics']]) or\n",
    "       (['stolen gun' in s for s in df['incident_characteristics']]), 'gun_stolen'] = 1\n",
    "df.loc[df['gun_stolen']!=1, 'gun_stolen'] = 0\n",
    "df.loc[(['Suicide' in s for s in df['incident_characteristics']]) or\n",
    "       (['suicide' in s for s in df['incident_characteristics']]), 'suicide'] = 1\n",
    "df.loc[df['suicide']!=1, 'suicide'] = 0\n",
    "df.loc[(['Accidental' in s for s in df['incident_characteristics']]) or\n",
    "       (['accidental' in s for s in df['incident_characteristics']]), 'accidental'] = 1\n",
    "df.loc[df['accidental']!=1, 'accidental'] = 0\n",
    "df.loc[(['Domestic Violence' in s for s in df['incident_characteristics']]), 'domestic_violence'] = 1\n",
    "df.loc[(['Domestic Violence' not in s for s in df['incident_characteristics']]), 'domestic_violence'] = 0\n",
    "df.loc[(['Gang' in s for s in df['participant_relationship']]) or\n",
    "       (['Gang' in s for s in df['incident_characteristics']]), 'gang_related'] = 1\n",
    "df.loc[df['gang_related']!=1, 'gang_related'] = 0\n",
    "df.loc[(['Family' in s for s in df['participant_relationship']]) or\n",
    "       (['Family' in s for s in df['incident_characteristics']]), 'family_related'] = 1\n",
    "df.loc[df['family_related']!=1, 'family_related'] = 0\n",
    "df.loc[(['Non-Shooting Incident' in s for s in df['incident_characteristics']]), 'non_shooting_incident'] = 1\n",
    "df.loc[df['non_shooting_incident']!=1, 'non_shooting_incident'] = 0\n",
    "df.loc[(['Gun shop robbery' in s for s in df['incident_characteristics']]), 'gun_shop_robbery'] = 1\n",
    "df.loc[df['gun_shop_robbery']!=1, 'gun_shop_robbery'] = 0\n",
    "df.loc[(['Drive-by' in s for s in df['incident_characteristics']]), 'drive_by_shooting'] = 1\n",
    "df.loc[df['drive_by_shooting']!=1, 'drive_by_shooting'] = 0\n",
    "df.loc[(['Officer Involved Shooting' in s for s in df['incident_characteristics']]), 'officer_involved_shooting'] = 1\n",
    "df.loc[df['officer_involved_shooting']!=1, 'officer_involved_shooting'] = 0\n",
    "# df.loc[(['Child' in s for s in df['incident_characteristics']]), 'child_involved'] = 1\n",
    "# df.loc[df['child_involved']!=1, 'child_involved'] = 0\n",
    "df.loc[(['Mass Shooting' in s for s in df['incident_characteristics']]), 'mass_shooting'] = 1\n",
    "df.loc[df['mass_shooting']!=1, 'mass_shooting'] = 0\n",
    "df.loc[(['Drug' in s for s in df['incident_characteristics']]), 'drug_involved'] = 1\n",
    "df.loc[df['drug_involved']!=1, 'drug_involved'] = 0\n",
    "df.loc[(['Assault weapon' in s for s in df['incident_characteristics']]), 'assault_weapon'] = 1\n",
    "df.loc[df['assault_weapon']!=1, 'assault_weapon'] = 0\n",
    "\n",
    "df.drop(['address', 'incident_url', 'sources',\n",
    "         'incident_characteristics', 'participant_name',\n",
    "         'participant_gender', 'participant_relationship',\n",
    "         'gun_type', 'participant_age_group',\n",
    "         'location_description', 'notes'], axis = 1, inplace = True)"
   ]
  },
  {
   "cell_type": "code",
   "execution_count": 17,
   "metadata": {
    "scrolled": true
   },
   "outputs": [
    {
     "name": "stdout",
     "output_type": "stream",
     "text": [
      "gun_stolen: 7366\n",
      "suicide: 7542\n",
      "accidental: 9743\n",
      "domestic_violence: 14098\n",
      "gang_related: 318\n",
      "family_related: 4338\n",
      "non_shooting_incident: 50607\n",
      "gun_shop_robbery: 568\n",
      "drive_by_shooting: 15524\n",
      "officer_involved_shooting: 17507\n",
      "mass_shooting: 2019\n",
      "drug_involved: 21795\n",
      "assault_weapon: 2853\n"
     ]
    }
   ],
   "source": [
    "boolean_columns = ['gun_stolen', 'suicide', 'accidental', 'domestic_violence',\n",
    "                   'gang_related', 'family_related', 'non_shooting_incident', 'gun_shop_robbery',\n",
    "                   'drive_by_shooting', 'officer_involved_shooting', #'child_involved',\n",
    "                   'mass_shooting', 'drug_involved', 'assault_weapon']\n",
    "\n",
    "for column in boolean_columns:\n",
    "    df[column] = df[column].astype(int)\n",
    "    print(\"{}: \".format(column) + str(len(df[df[column]==1])))"
   ]
  },
  {
   "cell_type": "code",
   "execution_count": 18,
   "metadata": {},
   "outputs": [],
   "source": [
    "assert len(df['state'].unique())==51"
   ]
  },
  {
   "cell_type": "code",
   "execution_count": 19,
   "metadata": {},
   "outputs": [],
   "source": [
    "df.to_pickle('../Pickles/df1.pkl')"
   ]
  },
  {
   "cell_type": "code",
   "execution_count": 20,
   "metadata": {},
   "outputs": [],
   "source": [
    "df = pd.read_pickle('../Pickles/df1.pkl')"
   ]
  },
  {
   "cell_type": "code",
   "execution_count": 21,
   "metadata": {
    "scrolled": true
   },
   "outputs": [
    {
     "data": {
      "text/plain": [
       "268889"
      ]
     },
     "execution_count": 21,
     "metadata": {},
     "output_type": "execute_result"
    }
   ],
   "source": [
    "len(df)"
   ]
  },
  {
   "cell_type": "code",
   "execution_count": 22,
   "metadata": {},
   "outputs": [],
   "source": [
    "# participant type\n",
    "part_type_df = df.set_index(['incident_id'])['participant_type'].apply(pd.Series).stack().reset_index(level=1, drop=True)\n",
    "part_type_df = part_type_df.reset_index()\n",
    "part_type_df.columns = ['incident_id','participant_type']\n",
    "part_type_df = part_type_df[(part_type_df['participant_type']=='Victim') | (part_type_df['participant_type']=='Subject-Suspect')]\n",
    "part_type_df['participant_index'] = part_type_df.groupby('incident_id').cumcount()\n",
    "part_type_df = part_type_df.reset_index()\n",
    "part_type_df.drop(['index'], axis = 1, inplace = True)\n",
    "\n",
    "# participant age\n",
    "part_age_df = df.set_index(['incident_id'])['participant_age'].apply(pd.Series).stack().reset_index(level=1, drop=True)\n",
    "part_age_df = part_age_df.reset_index()\n",
    "part_age_df.columns = ['incident_id','participant_age']\n",
    "# added code below due to scraping inconsistency\n",
    "part_age_df = deepcopy(pd.merge(part_age_df, df[['incident_id', 'scraped']], on = 'incident_id', how='left'))\n",
    "part_age_df.loc[(part_age_df['participant_age']=='') & (part_age_df['scraped']==True), 'missing_value'] = True\n",
    "missing_value_index = part_age_df[part_age_df['missing_value']==True].index.values\n",
    "part_age_df.loc[missing_value_index -1, 'remove'] = True\n",
    "part_age_df.loc[(part_age_df['participant_age']=='') & (part_age_df['scraped']==False), 'remove'] = True\n",
    "part_age_df = deepcopy(part_age_df[part_age_df['remove']!=True].reset_index())\n",
    "part_age_df.drop(['missing_value', 'remove', 'scraped', 'index'], axis = 1, inplace = True)\n",
    "# end of added code\n",
    "part_age_df = pd.DataFrame({'incident_id': part_age_df['incident_id'].iloc[::2].values, 'participant_index': part_age_df['participant_age'].iloc[::2].values, 'participant_age': part_age_df['participant_age'].iloc[1::2].values})\n",
    "part_age_df['participant_index'] = part_age_df['participant_index'].astype(int)\n",
    "part_age_df.loc[part_age_df['participant_age']=='', 'participant_age'] = None\n",
    "\n",
    "# participant status\n",
    "part_status_df = df.set_index(['incident_id'])['participant_status'].apply(pd.Series).stack().reset_index(level=1, drop=True)\n",
    "part_status_df = part_status_df.reset_index()\n",
    "part_status_df.columns = ['incident_id','participant_status']\n",
    "# added code below due to scraping inconsistency\n",
    "part_status_df = deepcopy(pd.merge(part_status_df, df[['incident_id', 'scraped']], on = 'incident_id', how='left'))\n",
    "part_status_df.loc[(part_status_df['participant_status']=='') & (part_status_df['scraped']==True), 'missing_value'] = True\n",
    "missing_value_index = part_status_df[part_status_df['missing_value']==True].index.values\n",
    "part_status_df.loc[missing_value_index -1, 'remove'] = True\n",
    "part_status_df.loc[(part_status_df['participant_status']=='') & (part_status_df['scraped']==False), 'remove'] = True\n",
    "part_status_df = deepcopy(part_status_df[part_status_df['remove']!=True].reset_index())\n",
    "part_status_df.drop(['missing_value', 'remove', 'scraped', 'index'], axis = 1, inplace = True)\n",
    "# end of added code\n",
    "part_status_df = pd.DataFrame({'incident_id': part_status_df['incident_id'].iloc[::2].values, 'participant_index': part_status_df['participant_status'].iloc[::2].values, 'participant_status': part_status_df['participant_status'].iloc[1::2].values})\n",
    "part_status_df['participant_index'] = part_status_df['participant_index'].astype(int)\n",
    "\n",
    "part_df = pd.merge(part_type_df, part_age_df, on=['incident_id', 'participant_index'], how='outer')\n",
    "part_df = pd.merge(part_df, part_status_df, on=['incident_id', 'participant_index'], how='outer')\n",
    "\n",
    "part_df['participant_type'] = part_df['participant_type'].astype(str)\n",
    "part_df['participant_status'] = part_df['participant_status'].astype(str)\n",
    "part_df['participant_age'] = part_df['participant_age'].astype(float)\n",
    "\n",
    "part_df.loc[(['Unharmed' in s for s in part_df['participant_status']]), 'num_unharmed'] = 1\n",
    "part_df.loc[(['Unharmed' not in s for s in part_df['participant_status']]), 'num_unharmed'] = 0\n",
    "part_df.loc[(['Arrested' in s for s in part_df['participant_status']]), 'num_arrested'] = 1\n",
    "part_df.loc[(['Arrested' not in s for s in part_df['participant_status']]), 'num_arrested'] = 0\n",
    "part_df.loc[(['Killed' in s for s in part_df['participant_status']])\n",
    "            or ((part_df['participant_type']=='Victim') & [s in null_status_victim_killed for s in part_df['incident_id']])\n",
    "            or ((part_df['participant_type']=='Subject-Suspect') & [s in null_status_suspect_killed for s in part_df['incident_id']]), 'num_killed'] = 1\n",
    "part_df.loc[(['Killed' not in s for s in part_df['participant_status']]), 'num_killed'] = 0\n",
    "part_df.loc[(['Injured' in s for s in part_df['participant_status']])\n",
    "            or ((part_df['participant_type']=='Victim') & [s in null_status_victim_injured for s in part_df['incident_id']])\n",
    "            or ((part_df['participant_type']=='Subject-Suspect') & [s in null_status_suspect_injured for s in part_df['incident_id']]), 'num_injured'] = 1\n",
    "part_df.loc[(['Injured' not in s for s in part_df['participant_status']]), 'num_injured'] = 0"
   ]
  },
  {
   "cell_type": "code",
   "execution_count": 23,
   "metadata": {},
   "outputs": [],
   "source": [
    "part_df.loc[(part_df['incident_id']==1001184) & (part_df['participant_age']==311), 'participant_age'] = 31\n",
    "part_df.loc[(part_df['incident_id']==926498) & (part_df['participant_age']==209), 'participant_age'] = 33"
   ]
  },
  {
   "cell_type": "code",
   "execution_count": 24,
   "metadata": {},
   "outputs": [],
   "source": [
    "# assert statement below checks for additional +100 participant_age rows.\n",
    "# the two that currently exist have been verified manually as accurate.\n",
    "assert len(part_df[part_df['participant_age'] > 100])==2\n",
    "assert len(part_df['incident_id'].unique())==len(df['incident_id'].unique())"
   ]
  },
  {
   "cell_type": "code",
   "execution_count": 25,
   "metadata": {},
   "outputs": [],
   "source": [
    "part_df.to_pickle('../Pickles/part_df.pkl')"
   ]
  },
  {
   "cell_type": "code",
   "execution_count": 26,
   "metadata": {},
   "outputs": [],
   "source": [
    "part_df = pd.read_pickle('../Pickles/part_df.pkl')"
   ]
  },
  {
   "cell_type": "code",
   "execution_count": 27,
   "metadata": {},
   "outputs": [
    {
     "data": {
      "text/html": [
       "<div>\n",
       "<style scoped>\n",
       "    .dataframe tbody tr th:only-of-type {\n",
       "        vertical-align: middle;\n",
       "    }\n",
       "\n",
       "    .dataframe tbody tr th {\n",
       "        vertical-align: top;\n",
       "    }\n",
       "\n",
       "    .dataframe thead th {\n",
       "        text-align: right;\n",
       "    }\n",
       "</style>\n",
       "<table border=\"1\" class=\"dataframe\">\n",
       "  <thead>\n",
       "    <tr style=\"text-align: right;\">\n",
       "      <th></th>\n",
       "      <th>incident_id</th>\n",
       "      <th>participant_type</th>\n",
       "      <th>participant_index</th>\n",
       "      <th>participant_age</th>\n",
       "      <th>participant_status</th>\n",
       "      <th>num_unharmed</th>\n",
       "      <th>num_arrested</th>\n",
       "      <th>num_killed</th>\n",
       "      <th>num_injured</th>\n",
       "    </tr>\n",
       "  </thead>\n",
       "  <tbody>\n",
       "    <tr>\n",
       "      <th>485571</th>\n",
       "      <td>1376626.00</td>\n",
       "      <td>Victim</td>\n",
       "      <td>1</td>\n",
       "      <td>nan</td>\n",
       "      <td>Injured</td>\n",
       "      <td>0.00</td>\n",
       "      <td>0.00</td>\n",
       "      <td>0.00</td>\n",
       "      <td>1.00</td>\n",
       "    </tr>\n",
       "    <tr>\n",
       "      <th>485572</th>\n",
       "      <td>1376626.00</td>\n",
       "      <td>Victim</td>\n",
       "      <td>2</td>\n",
       "      <td>nan</td>\n",
       "      <td>Injured</td>\n",
       "      <td>0.00</td>\n",
       "      <td>0.00</td>\n",
       "      <td>0.00</td>\n",
       "      <td>1.00</td>\n",
       "    </tr>\n",
       "    <tr>\n",
       "      <th>485573</th>\n",
       "      <td>1376626.00</td>\n",
       "      <td>Victim</td>\n",
       "      <td>3</td>\n",
       "      <td>nan</td>\n",
       "      <td>Injured</td>\n",
       "      <td>0.00</td>\n",
       "      <td>0.00</td>\n",
       "      <td>0.00</td>\n",
       "      <td>1.00</td>\n",
       "    </tr>\n",
       "  </tbody>\n",
       "</table>\n",
       "</div>"
      ],
      "text/plain": [
       "        incident_id participant_type  participant_index  participant_age  \\\n",
       "485571   1376626.00           Victim                  1              nan   \n",
       "485572   1376626.00           Victim                  2              nan   \n",
       "485573   1376626.00           Victim                  3              nan   \n",
       "\n",
       "       participant_status  num_unharmed  num_arrested  num_killed  num_injured  \n",
       "485571            Injured          0.00          0.00        0.00         1.00  \n",
       "485572            Injured          0.00          0.00        0.00         1.00  \n",
       "485573            Injured          0.00          0.00        0.00         1.00  "
      ]
     },
     "execution_count": 27,
     "metadata": {},
     "output_type": "execute_result"
    }
   ],
   "source": [
    "part_df.tail(3)"
   ]
  },
  {
   "cell_type": "code",
   "execution_count": 28,
   "metadata": {},
   "outputs": [],
   "source": [
    "aggregations_1 = {\n",
    "    'num_unharmed': 'sum',\n",
    "    'num_arrested': 'sum',\n",
    "    'num_killed': 'sum',\n",
    "    'num_injured': 'sum',\n",
    "    }\n",
    "\n",
    "aggregations_2 = {\n",
    "    'participant_index': 'count',\n",
    "    'participant_age': 'mean',\n",
    "    }\n",
    "\n",
    "part_status_df_group = part_df.groupby(['incident_id']).agg(aggregations_1).reset_index()\n",
    "part_df_group = part_df.groupby(['incident_id']).agg(aggregations_2).reset_index()\n",
    "part_type_df_group = part_df.groupby(['incident_id', 'participant_type']).agg(aggregations_2).reset_index()\n",
    "victim_df = deepcopy(part_type_df_group[part_type_df_group['participant_type']=='Victim'])\n",
    "suspect_df = deepcopy(part_type_df_group[part_type_df_group['participant_type']=='Subject-Suspect'])\n",
    "\n",
    "part_df_group.rename({'participant_age': 'avg_participant_age', 'participant_index': 'num_participants'}, axis = 1, inplace = True)\n",
    "victim_df.rename({'participant_age': 'avg_victim_age', 'participant_index': 'num_victims'}, axis = 1, inplace = True)\n",
    "suspect_df.rename({'participant_age': 'avg_suspect_age', 'participant_index': 'num_suspects'}, axis = 1, inplace = True)\n",
    "\n",
    "victim_df.drop(['participant_type'], axis = 1, inplace = True)\n",
    "suspect_df.drop(['participant_type'], axis = 1, inplace = True)"
   ]
  },
  {
   "cell_type": "code",
   "execution_count": 29,
   "metadata": {},
   "outputs": [],
   "source": [
    "df = pd.merge(df, part_df_group, on=['incident_id'], how='outer')\n",
    "df = pd.merge(df, part_status_df_group, on=['incident_id'], how='outer')\n",
    "df = pd.merge(df, victim_df, on=['incident_id'], how='outer')\n",
    "df = pd.merge(df, suspect_df, on=['incident_id'], how='outer')\n",
    "\n",
    "df.loc[df['num_suspects'].isnull(), 'num_suspects'] = 0\n",
    "df['num_guns_involved'] = df['num_guns_involved'].replace('\\\\\\\\t', '', regex = True)\n",
    "\n",
    "df.drop(['participant_age', 'participant_status', 'participant_type'], axis = 1, inplace = True)"
   ]
  },
  {
   "cell_type": "code",
   "execution_count": 30,
   "metadata": {},
   "outputs": [],
   "source": [
    "df.to_pickle('../Pickles/df2.pkl')"
   ]
  },
  {
   "cell_type": "code",
   "execution_count": 31,
   "metadata": {},
   "outputs": [],
   "source": [
    "df = pd.read_pickle('../Pickles/df2.pkl')"
   ]
  },
  {
   "cell_type": "code",
   "execution_count": 32,
   "metadata": {},
   "outputs": [
    {
     "data": {
      "text/plain": [
       "268889"
      ]
     },
     "execution_count": 32,
     "metadata": {},
     "output_type": "execute_result"
    }
   ],
   "source": [
    "len(df)"
   ]
  },
  {
   "cell_type": "code",
   "execution_count": 33,
   "metadata": {},
   "outputs": [
    {
     "data": {
      "text/html": [
       "<div>\n",
       "<style scoped>\n",
       "    .dataframe tbody tr th:only-of-type {\n",
       "        vertical-align: middle;\n",
       "    }\n",
       "\n",
       "    .dataframe tbody tr th {\n",
       "        vertical-align: top;\n",
       "    }\n",
       "\n",
       "    .dataframe thead th {\n",
       "        text-align: right;\n",
       "    }\n",
       "</style>\n",
       "<table border=\"1\" class=\"dataframe\">\n",
       "  <thead>\n",
       "    <tr style=\"text-align: right;\">\n",
       "      <th></th>\n",
       "      <th>incident_id</th>\n",
       "      <th>date</th>\n",
       "      <th>state</th>\n",
       "      <th>city_or_county</th>\n",
       "      <th>congressional_district</th>\n",
       "      <th>gun_stolen</th>\n",
       "      <th>latitude</th>\n",
       "      <th>longitude</th>\n",
       "      <th>num_guns_involved</th>\n",
       "      <th>state_house_district</th>\n",
       "      <th>state_senate_district</th>\n",
       "      <th>scraped</th>\n",
       "      <th>suicide</th>\n",
       "      <th>accidental</th>\n",
       "      <th>domestic_violence</th>\n",
       "      <th>gang_related</th>\n",
       "      <th>family_related</th>\n",
       "      <th>non_shooting_incident</th>\n",
       "      <th>gun_shop_robbery</th>\n",
       "      <th>drive_by_shooting</th>\n",
       "      <th>officer_involved_shooting</th>\n",
       "      <th>mass_shooting</th>\n",
       "      <th>drug_involved</th>\n",
       "      <th>assault_weapon</th>\n",
       "      <th>num_participants</th>\n",
       "      <th>avg_participant_age</th>\n",
       "      <th>num_unharmed</th>\n",
       "      <th>num_arrested</th>\n",
       "      <th>num_killed</th>\n",
       "      <th>num_injured</th>\n",
       "      <th>num_victims</th>\n",
       "      <th>avg_victim_age</th>\n",
       "      <th>num_suspects</th>\n",
       "      <th>avg_suspect_age</th>\n",
       "    </tr>\n",
       "  </thead>\n",
       "  <tbody>\n",
       "    <tr>\n",
       "      <th>0</th>\n",
       "      <td>1185220.00</td>\n",
       "      <td>1969-12-31</td>\n",
       "      <td>North Carolina</td>\n",
       "      <td>Charlotte</td>\n",
       "      <td>nan</td>\n",
       "      <td>0</td>\n",
       "      <td>nan</td>\n",
       "      <td>nan</td>\n",
       "      <td>1</td>\n",
       "      <td>NaN</td>\n",
       "      <td>NaN</td>\n",
       "      <td>True</td>\n",
       "      <td>0</td>\n",
       "      <td>0</td>\n",
       "      <td>0</td>\n",
       "      <td>0</td>\n",
       "      <td>0</td>\n",
       "      <td>0</td>\n",
       "      <td>0</td>\n",
       "      <td>0</td>\n",
       "      <td>0</td>\n",
       "      <td>0</td>\n",
       "      <td>0</td>\n",
       "      <td>0</td>\n",
       "      <td>1</td>\n",
       "      <td>23.00</td>\n",
       "      <td>0.00</td>\n",
       "      <td>0.00</td>\n",
       "      <td>1.00</td>\n",
       "      <td>0.00</td>\n",
       "      <td>1.00</td>\n",
       "      <td>23.00</td>\n",
       "      <td>0.00</td>\n",
       "      <td>nan</td>\n",
       "    </tr>\n",
       "    <tr>\n",
       "      <th>1</th>\n",
       "      <td>1242903.00</td>\n",
       "      <td>1969-12-31</td>\n",
       "      <td>Ohio</td>\n",
       "      <td>Cincinnati</td>\n",
       "      <td>2.00</td>\n",
       "      <td>0</td>\n",
       "      <td>39.20</td>\n",
       "      <td>-84.53</td>\n",
       "      <td>1</td>\n",
       "      <td>33</td>\n",
       "      <td>9</td>\n",
       "      <td>True</td>\n",
       "      <td>0</td>\n",
       "      <td>0</td>\n",
       "      <td>0</td>\n",
       "      <td>0</td>\n",
       "      <td>0</td>\n",
       "      <td>0</td>\n",
       "      <td>0</td>\n",
       "      <td>0</td>\n",
       "      <td>0</td>\n",
       "      <td>0</td>\n",
       "      <td>0</td>\n",
       "      <td>0</td>\n",
       "      <td>1</td>\n",
       "      <td>19.00</td>\n",
       "      <td>0.00</td>\n",
       "      <td>0.00</td>\n",
       "      <td>0.00</td>\n",
       "      <td>1.00</td>\n",
       "      <td>1.00</td>\n",
       "      <td>19.00</td>\n",
       "      <td>0.00</td>\n",
       "      <td>nan</td>\n",
       "    </tr>\n",
       "    <tr>\n",
       "      <th>2</th>\n",
       "      <td>980595.00</td>\n",
       "      <td>2007-07-16</td>\n",
       "      <td>Rhode Island</td>\n",
       "      <td>Central Falls</td>\n",
       "      <td>1.00</td>\n",
       "      <td>0</td>\n",
       "      <td>41.89</td>\n",
       "      <td>-71.39</td>\n",
       "      <td>1.0</td>\n",
       "      <td>56</td>\n",
       "      <td>16</td>\n",
       "      <td>True</td>\n",
       "      <td>0</td>\n",
       "      <td>0</td>\n",
       "      <td>0</td>\n",
       "      <td>0</td>\n",
       "      <td>0</td>\n",
       "      <td>0</td>\n",
       "      <td>0</td>\n",
       "      <td>0</td>\n",
       "      <td>0</td>\n",
       "      <td>0</td>\n",
       "      <td>0</td>\n",
       "      <td>0</td>\n",
       "      <td>4</td>\n",
       "      <td>34.50</td>\n",
       "      <td>1.00</td>\n",
       "      <td>1.00</td>\n",
       "      <td>1.00</td>\n",
       "      <td>0.00</td>\n",
       "      <td>1.00</td>\n",
       "      <td>42.00</td>\n",
       "      <td>3.00</td>\n",
       "      <td>27.00</td>\n",
       "    </tr>\n",
       "  </tbody>\n",
       "</table>\n",
       "</div>"
      ],
      "text/plain": [
       "   incident_id       date           state city_or_county  \\\n",
       "0   1185220.00 1969-12-31  North Carolina      Charlotte   \n",
       "1   1242903.00 1969-12-31            Ohio     Cincinnati   \n",
       "2    980595.00 2007-07-16    Rhode Island  Central Falls   \n",
       "\n",
       "   congressional_district  gun_stolen  latitude  longitude num_guns_involved  \\\n",
       "0                     nan           0       nan        nan                 1   \n",
       "1                    2.00           0     39.20     -84.53                 1   \n",
       "2                    1.00           0     41.89     -71.39               1.0   \n",
       "\n",
       "  state_house_district state_senate_district  scraped  suicide  accidental  \\\n",
       "0                  NaN                   NaN     True        0           0   \n",
       "1                   33                     9     True        0           0   \n",
       "2                   56                    16     True        0           0   \n",
       "\n",
       "   domestic_violence  gang_related  family_related  non_shooting_incident  \\\n",
       "0                  0             0               0                      0   \n",
       "1                  0             0               0                      0   \n",
       "2                  0             0               0                      0   \n",
       "\n",
       "   gun_shop_robbery  drive_by_shooting  officer_involved_shooting  \\\n",
       "0                 0                  0                          0   \n",
       "1                 0                  0                          0   \n",
       "2                 0                  0                          0   \n",
       "\n",
       "   mass_shooting  drug_involved  assault_weapon  num_participants  \\\n",
       "0              0              0               0                 1   \n",
       "1              0              0               0                 1   \n",
       "2              0              0               0                 4   \n",
       "\n",
       "   avg_participant_age  num_unharmed  num_arrested  num_killed  num_injured  \\\n",
       "0                23.00          0.00          0.00        1.00         0.00   \n",
       "1                19.00          0.00          0.00        0.00         1.00   \n",
       "2                34.50          1.00          1.00        1.00         0.00   \n",
       "\n",
       "   num_victims  avg_victim_age  num_suspects  avg_suspect_age  \n",
       "0         1.00           23.00          0.00              nan  \n",
       "1         1.00           19.00          0.00              nan  \n",
       "2         1.00           42.00          3.00            27.00  "
      ]
     },
     "execution_count": 33,
     "metadata": {},
     "output_type": "execute_result"
    }
   ],
   "source": [
    "df.head(3)"
   ]
  },
  {
   "cell_type": "code",
   "execution_count": 34,
   "metadata": {},
   "outputs": [],
   "source": [
    "# added las vegas shooting (originally missing from dataset)\n",
    "df_append = pd.DataFrame(columns = list(df.columns))\n",
    "# id for las vegas shooting chosing arbitrarily (it's the date of the show)\n",
    "df_append.loc[0, 'incident_id'] = 100117\n",
    "df_append.loc[0, 'date'] = pd.Timestamp('2017-10-01')\n",
    "df_append.loc[0, 'state'] = 'Nevada'\n",
    "df_append.loc[0, 'city_or_county'] = 'Las Vegas'\n",
    "df_append.loc[0, 'latitude'] = 36.08833298\n",
    "df_append.loc[0, 'longitude'] = -115.171499314\n",
    "df_append.loc[0, 'num_killed'] = 59\n",
    "df_append.loc[0, 'num_injured'] = 489\n",
    "df_append.loc[0, 'num_guns_involved'] = 47\n",
    "df_append.loc[0, 'suicide'] = 1\n",
    "df_append.loc[0, 'accidental'] = 0\n",
    "df_append.loc[0, 'domestic_violence'] = 0\n",
    "df_append.loc[0, 'gang_related'] = 0\n",
    "df_append.loc[0, 'family_related'] = 0\n",
    "df_append.loc[0, 'non_shooting_incident'] = 0\n",
    "df_append.loc[0, 'gun_shop_robbery'] = 0\n",
    "df_append.loc[0, 'drive_by_shooting'] = 0\n",
    "df_append.loc[0, 'officer_involved_shooting'] = 1\n",
    "# df_append.loc[0, 'child_involved'] = 0\n",
    "df_append.loc[0, 'mass_shooting'] = 1\n",
    "df_append.loc[0, 'drug_involved'] = 0\n",
    "df_append.loc[0, 'gun_stolen'] = 0\n",
    "df_append.loc[0, 'assault_weapon'] = 1\n",
    "df_append.loc[0, 'num_arrested'] = 0\n",
    "df_append.loc[0, 'num_suspects'] = 1\n",
    "df_append.loc[0, 'avg_suspect_age'] = 64\n",
    "df_append.loc[0, 'avg_victim_age'] = 34.93877551\n",
    "# giving same value to 20000 participants as the 910 victims because shooting was random\n",
    "df_append.loc[0, 'avg_participant_age'] = 34.93877551\n",
    "# number killed + number total injuries from not-only gunfire wikipedia\n",
    "df_append.loc[0, 'num_victims'] = 910\n",
    "# total number of attendees at concert\n",
    "df_append.loc[0, 'num_participants'] = 22000\n",
    "# attendees who didn't get injured\n",
    "df_append.loc[0, 'num_unharmed'] = 21090\n",
    "\n",
    "df = df.append([df_append], sort=False, ignore_index = True)"
   ]
  },
  {
   "cell_type": "code",
   "execution_count": 35,
   "metadata": {},
   "outputs": [],
   "source": [
    "df['date'] = pd.to_datetime(df['date'])\n",
    "df['num_killed'] = df['num_killed'].astype(int)\n",
    "df['num_injured'] = df['num_injured'].astype(int)\n",
    "df['gun_stolen'] = df['gun_stolen'].astype(int)\n",
    "df['suicide'] = df['suicide'].astype(int)\n",
    "df['accidental'] = df['accidental'].astype(int)\n",
    "df['domestic_violence'] = df['domestic_violence'].astype(int)\n",
    "df['gang_related'] = df['gang_related'].astype(int)\n",
    "df['family_related'] = df['family_related'].astype(int)\n",
    "df['non_shooting_incident'] = df['non_shooting_incident'].astype(int)\n",
    "df['gun_shop_robbery'] = df['gun_shop_robbery'].astype(int)\n",
    "df['drive_by_shooting'] = df['drive_by_shooting'].astype(int)\n",
    "df['officer_involved_shooting'] = df['officer_involved_shooting'].astype(int)\n",
    "# df['child_involved'] = df['child_involved'].astype(int)\n",
    "df['mass_shooting'] = df['mass_shooting'].astype(int)\n",
    "df['drug_involved'] = df['drug_involved'].astype(int)\n",
    "df['assault_weapon'] = df['assault_weapon'].astype(int)\n",
    "df['incident_id'] = df['incident_id'].astype(int)\n",
    "df['num_suspects'] = df['num_suspects'].astype(int)\n",
    "df['latitude'] = df['latitude'].astype(float)\n",
    "df['longitude'] = df['longitude'].astype(float)\n",
    "df['num_guns_involved'] = df['num_guns_involved'].astype(float)\n",
    "df['congressional_district'] = df['congressional_district'].astype(float)\n",
    "df['avg_participant_age'] = df['avg_participant_age'].astype(float)\n",
    "df['num_unharmed'] = df['num_unharmed'].astype(float)\n",
    "df['num_arrested'] = df['num_arrested'].astype(float)\n",
    "df['num_victims'] = df['num_victims'].astype(float)\n",
    "df['avg_victim_age'] = df['avg_victim_age'].astype(float)\n",
    "df['avg_suspect_age'] = df['avg_suspect_age'].astype(float)\n",
    "df['num_participants'] = df['num_participants'].astype(float)"
   ]
  },
  {
   "cell_type": "code",
   "execution_count": 36,
   "metadata": {},
   "outputs": [
    {
     "data": {
      "text/plain": [
       "268890"
      ]
     },
     "execution_count": 36,
     "metadata": {},
     "output_type": "execute_result"
    }
   ],
   "source": [
    "len(df)"
   ]
  },
  {
   "cell_type": "code",
   "execution_count": 37,
   "metadata": {
    "scrolled": true
   },
   "outputs": [
    {
     "data": {
      "text/html": [
       "<div>\n",
       "<style scoped>\n",
       "    .dataframe tbody tr th:only-of-type {\n",
       "        vertical-align: middle;\n",
       "    }\n",
       "\n",
       "    .dataframe tbody tr th {\n",
       "        vertical-align: top;\n",
       "    }\n",
       "\n",
       "    .dataframe thead th {\n",
       "        text-align: right;\n",
       "    }\n",
       "</style>\n",
       "<table border=\"1\" class=\"dataframe\">\n",
       "  <thead>\n",
       "    <tr style=\"text-align: right;\">\n",
       "      <th></th>\n",
       "      <th>incident_id</th>\n",
       "      <th>date</th>\n",
       "      <th>state</th>\n",
       "      <th>city_or_county</th>\n",
       "      <th>congressional_district</th>\n",
       "      <th>gun_stolen</th>\n",
       "      <th>latitude</th>\n",
       "      <th>longitude</th>\n",
       "      <th>num_guns_involved</th>\n",
       "      <th>state_house_district</th>\n",
       "      <th>state_senate_district</th>\n",
       "      <th>scraped</th>\n",
       "      <th>suicide</th>\n",
       "      <th>accidental</th>\n",
       "      <th>domestic_violence</th>\n",
       "      <th>gang_related</th>\n",
       "      <th>family_related</th>\n",
       "      <th>non_shooting_incident</th>\n",
       "      <th>gun_shop_robbery</th>\n",
       "      <th>drive_by_shooting</th>\n",
       "      <th>officer_involved_shooting</th>\n",
       "      <th>mass_shooting</th>\n",
       "      <th>drug_involved</th>\n",
       "      <th>assault_weapon</th>\n",
       "      <th>num_participants</th>\n",
       "      <th>avg_participant_age</th>\n",
       "      <th>num_unharmed</th>\n",
       "      <th>num_arrested</th>\n",
       "      <th>num_killed</th>\n",
       "      <th>num_injured</th>\n",
       "      <th>num_victims</th>\n",
       "      <th>avg_victim_age</th>\n",
       "      <th>num_suspects</th>\n",
       "      <th>avg_suspect_age</th>\n",
       "    </tr>\n",
       "  </thead>\n",
       "  <tbody>\n",
       "    <tr>\n",
       "      <th>0</th>\n",
       "      <td>1185220</td>\n",
       "      <td>1969-12-31</td>\n",
       "      <td>North Carolina</td>\n",
       "      <td>Charlotte</td>\n",
       "      <td>nan</td>\n",
       "      <td>0</td>\n",
       "      <td>nan</td>\n",
       "      <td>nan</td>\n",
       "      <td>1.00</td>\n",
       "      <td>NaN</td>\n",
       "      <td>NaN</td>\n",
       "      <td>True</td>\n",
       "      <td>0</td>\n",
       "      <td>0</td>\n",
       "      <td>0</td>\n",
       "      <td>0</td>\n",
       "      <td>0</td>\n",
       "      <td>0</td>\n",
       "      <td>0</td>\n",
       "      <td>0</td>\n",
       "      <td>0</td>\n",
       "      <td>0</td>\n",
       "      <td>0</td>\n",
       "      <td>0</td>\n",
       "      <td>1.00</td>\n",
       "      <td>23.00</td>\n",
       "      <td>0.00</td>\n",
       "      <td>0.00</td>\n",
       "      <td>1</td>\n",
       "      <td>0</td>\n",
       "      <td>1.00</td>\n",
       "      <td>23.00</td>\n",
       "      <td>0</td>\n",
       "      <td>nan</td>\n",
       "    </tr>\n",
       "    <tr>\n",
       "      <th>1</th>\n",
       "      <td>1242903</td>\n",
       "      <td>1969-12-31</td>\n",
       "      <td>Ohio</td>\n",
       "      <td>Cincinnati</td>\n",
       "      <td>2.00</td>\n",
       "      <td>0</td>\n",
       "      <td>39.20</td>\n",
       "      <td>-84.53</td>\n",
       "      <td>1.00</td>\n",
       "      <td>33</td>\n",
       "      <td>9</td>\n",
       "      <td>True</td>\n",
       "      <td>0</td>\n",
       "      <td>0</td>\n",
       "      <td>0</td>\n",
       "      <td>0</td>\n",
       "      <td>0</td>\n",
       "      <td>0</td>\n",
       "      <td>0</td>\n",
       "      <td>0</td>\n",
       "      <td>0</td>\n",
       "      <td>0</td>\n",
       "      <td>0</td>\n",
       "      <td>0</td>\n",
       "      <td>1.00</td>\n",
       "      <td>19.00</td>\n",
       "      <td>0.00</td>\n",
       "      <td>0.00</td>\n",
       "      <td>0</td>\n",
       "      <td>1</td>\n",
       "      <td>1.00</td>\n",
       "      <td>19.00</td>\n",
       "      <td>0</td>\n",
       "      <td>nan</td>\n",
       "    </tr>\n",
       "    <tr>\n",
       "      <th>2</th>\n",
       "      <td>980595</td>\n",
       "      <td>2007-07-16</td>\n",
       "      <td>Rhode Island</td>\n",
       "      <td>Central Falls</td>\n",
       "      <td>1.00</td>\n",
       "      <td>0</td>\n",
       "      <td>41.89</td>\n",
       "      <td>-71.39</td>\n",
       "      <td>1.00</td>\n",
       "      <td>56</td>\n",
       "      <td>16</td>\n",
       "      <td>True</td>\n",
       "      <td>0</td>\n",
       "      <td>0</td>\n",
       "      <td>0</td>\n",
       "      <td>0</td>\n",
       "      <td>0</td>\n",
       "      <td>0</td>\n",
       "      <td>0</td>\n",
       "      <td>0</td>\n",
       "      <td>0</td>\n",
       "      <td>0</td>\n",
       "      <td>0</td>\n",
       "      <td>0</td>\n",
       "      <td>4.00</td>\n",
       "      <td>34.50</td>\n",
       "      <td>1.00</td>\n",
       "      <td>1.00</td>\n",
       "      <td>1</td>\n",
       "      <td>0</td>\n",
       "      <td>1.00</td>\n",
       "      <td>42.00</td>\n",
       "      <td>3</td>\n",
       "      <td>27.00</td>\n",
       "    </tr>\n",
       "  </tbody>\n",
       "</table>\n",
       "</div>"
      ],
      "text/plain": [
       "   incident_id       date           state city_or_county  \\\n",
       "0      1185220 1969-12-31  North Carolina      Charlotte   \n",
       "1      1242903 1969-12-31            Ohio     Cincinnati   \n",
       "2       980595 2007-07-16    Rhode Island  Central Falls   \n",
       "\n",
       "   congressional_district  gun_stolen  latitude  longitude  num_guns_involved  \\\n",
       "0                     nan           0       nan        nan               1.00   \n",
       "1                    2.00           0     39.20     -84.53               1.00   \n",
       "2                    1.00           0     41.89     -71.39               1.00   \n",
       "\n",
       "  state_house_district state_senate_district scraped  suicide  accidental  \\\n",
       "0                  NaN                   NaN    True        0           0   \n",
       "1                   33                     9    True        0           0   \n",
       "2                   56                    16    True        0           0   \n",
       "\n",
       "   domestic_violence  gang_related  family_related  non_shooting_incident  \\\n",
       "0                  0             0               0                      0   \n",
       "1                  0             0               0                      0   \n",
       "2                  0             0               0                      0   \n",
       "\n",
       "   gun_shop_robbery  drive_by_shooting  officer_involved_shooting  \\\n",
       "0                 0                  0                          0   \n",
       "1                 0                  0                          0   \n",
       "2                 0                  0                          0   \n",
       "\n",
       "   mass_shooting  drug_involved  assault_weapon  num_participants  \\\n",
       "0              0              0               0              1.00   \n",
       "1              0              0               0              1.00   \n",
       "2              0              0               0              4.00   \n",
       "\n",
       "   avg_participant_age  num_unharmed  num_arrested  num_killed  num_injured  \\\n",
       "0                23.00          0.00          0.00           1            0   \n",
       "1                19.00          0.00          0.00           0            1   \n",
       "2                34.50          1.00          1.00           1            0   \n",
       "\n",
       "   num_victims  avg_victim_age  num_suspects  avg_suspect_age  \n",
       "0         1.00           23.00             0              nan  \n",
       "1         1.00           19.00             0              nan  \n",
       "2         1.00           42.00             3            27.00  "
      ]
     },
     "execution_count": 37,
     "metadata": {},
     "output_type": "execute_result"
    }
   ],
   "source": [
    "df.head(3)"
   ]
  },
  {
   "cell_type": "code",
   "execution_count": 38,
   "metadata": {
    "scrolled": true
   },
   "outputs": [
    {
     "name": "stdout",
     "output_type": "stream",
     "text": [
      "Most recent date recorded: 2019-04-20\n",
      "\n",
      "4 rows removed after removing most recent scraped date.\n",
      "\n",
      "Counts of 40 dates removed.\n",
      "[132, 117, 140, 155, 142, 166, 120, 123, 122, 117, 132, 142, 136, 136, 127, 138, 133, 154, 141, 143, 127, 104, 131, 109, 99, 149, 163, 147, 126, 137, 130, 109, 138, 138, 115, 127, 117, 95, 50]\n",
      "\n",
      "5027 rows removed after removing most recent 39 days (40 total including removal above).\n",
      "115 incidents in final incident date.\n",
      "\n",
      "Most recent date used: 2019-03-11\n"
     ]
    }
   ],
   "source": [
    "# 2019-04-02 was the maximum on 4/20, beginning of backtrack scrape through original id range\n",
    "print(\"Most recent date recorded: \" + str(df['date'].dt.date.max()))\n",
    "\n",
    "before = len(df)\n",
    "####################################################################################\n",
    "df = deepcopy(df[df['date'].dt.date <= (df['date'].dt.date.max() - pd.Timedelta(days=1))])\n",
    "####################################################################################\n",
    "after = len(df)\n",
    "print(\"\\n\" + str(before-after) + \" rows removed after removing most recent scraped date.\\n\")\n",
    "\n",
    "before = len(df)\n",
    "print('Counts of 40 dates removed.')\n",
    "print(list(df.groupby(df['date'])['incident_id'].count()[-39:].values.astype(int)))\n",
    "print('')\n",
    "####################################################################################\n",
    "df = deepcopy(df[df['date'] <= df.groupby(df['date'])['incident_id'].count()[-40:-39].index[0]])\n",
    "####################################################################################\n",
    "after = len(df)\n",
    "print(str(before-after) + \" rows removed after removing most recent 39 days (40 total including removal above).\")\n",
    "print(str(df.groupby(df['date'])['incident_id'].count()[-1]) + \" incidents in final incident date.\")\n",
    "\n",
    "print(\"\\nMost recent date used: \" + str(df['date'].dt.date.max()))"
   ]
  },
  {
   "cell_type": "code",
   "execution_count": 39,
   "metadata": {},
   "outputs": [
    {
     "data": {
      "text/plain": [
       "Index(['incident_id', 'date', 'state', 'city_or_county',\n",
       "       'congressional_district', 'gun_stolen', 'latitude', 'longitude',\n",
       "       'num_guns_involved', 'state_house_district', 'state_senate_district',\n",
       "       'scraped', 'suicide', 'accidental', 'domestic_violence', 'gang_related',\n",
       "       'family_related', 'non_shooting_incident', 'gun_shop_robbery',\n",
       "       'drive_by_shooting', 'officer_involved_shooting', 'mass_shooting',\n",
       "       'drug_involved', 'assault_weapon', 'num_participants',\n",
       "       'avg_participant_age', 'num_unharmed', 'num_arrested', 'num_killed',\n",
       "       'num_injured', 'num_victims', 'avg_victim_age', 'num_suspects',\n",
       "       'avg_suspect_age'],\n",
       "      dtype='object')"
      ]
     },
     "execution_count": 39,
     "metadata": {},
     "output_type": "execute_result"
    }
   ],
   "source": [
    "df.columns"
   ]
  },
  {
   "cell_type": "code",
   "execution_count": 40,
   "metadata": {},
   "outputs": [],
   "source": [
    "aggregations = {\n",
    "    'incident_id': 'count',\n",
    "    'num_killed': 'sum',\n",
    "    'num_injured': 'sum',\n",
    "    'gun_stolen': 'sum',\n",
    "    'num_guns_involved': 'sum',\n",
    "    'suicide': 'sum',\n",
    "    'accidental': 'sum',\n",
    "    'domestic_violence': 'sum',\n",
    "    'gang_related': 'sum',\n",
    "    'family_related': 'sum',\n",
    "    'non_shooting_incident': 'sum',\n",
    "    'gun_shop_robbery': 'sum',\n",
    "    'drive_by_shooting': 'sum',\n",
    "    'officer_involved_shooting': 'sum',\n",
    "#     'child_involved': 'sum',\n",
    "    'mass_shooting': 'sum',\n",
    "    'drug_involved': 'sum',\n",
    "    'assault_weapon': 'sum',\n",
    "    'num_unharmed': 'sum',\n",
    "    'num_arrested': 'sum',\n",
    "    'num_suspects': 'sum',\n",
    "    'avg_suspect_age': 'mean',\n",
    "    'num_victims': 'sum',\n",
    "    'avg_victim_age': 'mean',\n",
    "    'num_participants': 'sum',\n",
    "    'avg_participant_age': 'mean',\n",
    "    }\n",
    "\n",
    "df_states = df.groupby(['state', 'date']).agg(aggregations).reset_index()\n",
    "df_states.rename({'incident_id': 'num_incidents'}, axis = 1, inplace = True)\n",
    "df_date = df.groupby(['date']).agg(aggregations).reset_index()\n",
    "df_date.rename({'incident_id': 'num_incidents'}, axis = 1, inplace = True)"
   ]
  },
  {
   "cell_type": "code",
   "execution_count": 41,
   "metadata": {},
   "outputs": [],
   "source": [
    "df_states.to_pickle('../Pickles/df_states.pkl')\n",
    "df_date.to_pickle('../Pickles/df_date.pkl')"
   ]
  },
  {
   "cell_type": "code",
   "execution_count": 42,
   "metadata": {},
   "outputs": [],
   "source": [
    "df_states = pd.read_pickle('../Pickles/df_states.pkl')\n",
    "df_date = pd.read_pickle('../Pickles/df_date.pkl')\n",
    "state_laws_df = pd.read_pickle('../Pickles/state_firearm_laws.pkl')"
   ]
  },
  {
   "cell_type": "code",
   "execution_count": 43,
   "metadata": {},
   "outputs": [],
   "source": [
    "df_states = deepcopy(df_states[df_states['date'].dt.year >= 2014].reset_index())\n",
    "df_states.drop('index', axis = 1, inplace = True)\n",
    "df_date = deepcopy(df_date[df_date['date'].dt.year >= 2014].reset_index())\n",
    "df_date.drop('index', axis = 1, inplace = True)"
   ]
  },
  {
   "cell_type": "code",
   "execution_count": 44,
   "metadata": {},
   "outputs": [],
   "source": [
    "df_states.drop(['avg_victim_age', 'avg_suspect_age',\n",
    "                'num_participants', 'avg_participant_age'],\n",
    "               axis = 1, inplace = True)\n",
    "df_date.drop(['avg_victim_age', 'avg_suspect_age', 'num_participants',\n",
    "              'avg_participant_age'],\n",
    "             axis = 1, inplace = True)"
   ]
  },
  {
   "cell_type": "code",
   "execution_count": 45,
   "metadata": {},
   "outputs": [
    {
     "name": "stdout",
     "output_type": "stream",
     "text": [
      "0 missing dates across the US.\n",
      "99 missing dates in Alabama.\n",
      "1007 missing dates in Alaska.\n",
      "534 missing dates in Arizona.\n",
      "358 missing dates in Arkansas.\n",
      "0 missing dates in California.\n",
      "373 missing dates in Colorado.\n",
      "357 missing dates in Connecticut.\n",
      "737 missing dates in Delaware.\n",
      "531 missing dates in District of Columbia.\n",
      "0 missing dates in Florida.\n",
      "25 missing dates in Georgia.\n",
      "1602 missing dates in Hawaii.\n",
      "1298 missing dates in Idaho.\n",
      "4 missing dates in Illinois.\n",
      "69 missing dates in Indiana.\n",
      "541 missing dates in Iowa.\n",
      "559 missing dates in Kansas.\n",
      "188 missing dates in Kentucky.\n",
      "20 missing dates in Louisiana.\n",
      "1204 missing dates in Maine.\n",
      "83 missing dates in Maryland.\n",
      "110 missing dates in Massachusetts.\n",
      "82 missing dates in Michigan.\n",
      "654 missing dates in Minnesota.\n",
      "229 missing dates in Mississippi.\n",
      "70 missing dates in Missouri.\n",
      "1350 missing dates in Montana.\n",
      "818 missing dates in Nebraska.\n",
      "670 missing dates in Nevada.\n",
      "1153 missing dates in New Hampshire.\n",
      "111 missing dates in New Jersey.\n",
      "810 missing dates in New Mexico.\n",
      "21 missing dates in New York.\n",
      "17 missing dates in North Carolina.\n",
      "1406 missing dates in North Dakota.\n",
      "10 missing dates in Ohio.\n",
      "264 missing dates in Oklahoma.\n",
      "612 missing dates in Oregon.\n",
      "13 missing dates in Pennsylvania.\n",
      "1190 missing dates in Rhode Island.\n",
      "53 missing dates in South Carolina.\n",
      "1468 missing dates in South Dakota.\n",
      "29 missing dates in Tennessee.\n",
      "2 missing dates in Texas.\n",
      "1080 missing dates in Utah.\n",
      "1452 missing dates in Vermont.\n",
      "77 missing dates in Virginia.\n",
      "323 missing dates in Washington.\n",
      "770 missing dates in West Virginia.\n",
      "186 missing dates in Wisconsin.\n",
      "1673 missing dates in Wyoming.\n"
     ]
    }
   ],
   "source": [
    "missing_dates = set(pd.period_range(min(df_date['date']), max(df_date['date']))) - set(list(pd.DatetimeIndex(df_date['date']).to_period('D')))\n",
    "print(\"{} missing dates across the US.\".format(len(missing_dates)))\n",
    "df_append = pd.DataFrame(list(missing_dates), columns = ['date'])\n",
    "df_append['date'] = pd.to_datetime(df_append['date'].astype(str))\n",
    "for column in df_date.columns:\n",
    "    if column != 'date':\n",
    "        df_append[column] = 0\n",
    "df_date = df_date.append(df_append, sort=False, ignore_index = True)\n",
    "\n",
    "for state in df_states['state'].unique():\n",
    "    missing_dates = set(pd.period_range(min(df_states['date']), max(df_states['date']))) - set(list(pd.DatetimeIndex(df_states[df_states['state']==state]['date']).to_period('D')))\n",
    "    print(\"{} missing dates in {}.\".format(len(missing_dates), state))\n",
    "    df_append = pd.DataFrame(list(missing_dates), columns = ['date'])\n",
    "    df_append['date'] = pd.to_datetime(df_append['date'].astype(str))\n",
    "    df_append['state'] = state\n",
    "    for column in df_states.columns:\n",
    "        if column != 'date' and column != 'state':\n",
    "            df_append[column] = 0\n",
    "    df_states = df_states.append(df_append, sort=False, ignore_index = True)"
   ]
  },
  {
   "cell_type": "code",
   "execution_count": 46,
   "metadata": {},
   "outputs": [],
   "source": [
    "assert len(list(set(df_states['state'].value_counts().values)))==1"
   ]
  },
  {
   "cell_type": "code",
   "execution_count": 47,
   "metadata": {},
   "outputs": [],
   "source": [
    "for column in df_states.columns:\n",
    "    if column=='date':\n",
    "        df_states['date'] = pd.to_datetime(df_states['date'])\n",
    "    elif column=='state':\n",
    "        pass\n",
    "    else:\n",
    "        df_states[column] = df_states[column].astype(int)\n",
    "        \n",
    "for column in df_date.columns:\n",
    "    if column=='date':\n",
    "        df_date['date'] = pd.to_datetime(df_date['date'])\n",
    "    else:\n",
    "        df_date[column] = df_date[column].astype(int)"
   ]
  },
  {
   "cell_type": "code",
   "execution_count": 48,
   "metadata": {},
   "outputs": [],
   "source": [
    "df_states['year'] = df_states['date'].dt.year\n",
    "df_states = pd.merge(df_states, state_laws_df, on=['state', 'year'], how='left')\n",
    "df_states = df_states.reset_index()\n",
    "df_states.drop(['index'], axis = 1, inplace = True)\n",
    "\n",
    "df_states = df_states.sort_values(by = 'date', ascending = True)\n",
    "df_date = df_date.sort_values(by = 'date', ascending = True)"
   ]
  },
  {
   "cell_type": "code",
   "execution_count": 49,
   "metadata": {},
   "outputs": [],
   "source": [
    "assert len(df_date)==len(df_states)/51"
   ]
  },
  {
   "cell_type": "code",
   "execution_count": 50,
   "metadata": {},
   "outputs": [],
   "source": [
    "df_states.to_pickle('../Pickles/df_states_2.pkl')\n",
    "df_date.to_pickle('../Pickles/df_date_2.pkl')"
   ]
  },
  {
   "cell_type": "code",
   "execution_count": 51,
   "metadata": {},
   "outputs": [],
   "source": [
    "df_states = pd.read_pickle('../Pickles/df_states_2.pkl')\n",
    "df_date = pd.read_pickle('../Pickles/df_date_2.pkl')"
   ]
  },
  {
   "cell_type": "code",
   "execution_count": 52,
   "metadata": {
    "code_folding": []
   },
   "outputs": [
    {
     "name": "stdout",
     "output_type": "stream",
     "text": [
      "0\n",
      "26292\n"
     ]
    }
   ],
   "source": [
    "print(len(df_date[df_date['num_incidents']==0]))\n",
    "print(len(df_states[df_states['num_incidents']==0]))"
   ]
  },
  {
   "cell_type": "code",
   "execution_count": null,
   "metadata": {},
   "outputs": [],
   "source": []
  }
 ],
 "metadata": {
  "kernelspec": {
   "display_name": "Python 3",
   "language": "python",
   "name": "python3"
  },
  "language_info": {
   "codemirror_mode": {
    "name": "ipython",
    "version": 3
   },
   "file_extension": ".py",
   "mimetype": "text/x-python",
   "name": "python",
   "nbconvert_exporter": "python",
   "pygments_lexer": "ipython3",
   "version": "3.6.4"
  }
 },
 "nbformat": 4,
 "nbformat_minor": 2
}
