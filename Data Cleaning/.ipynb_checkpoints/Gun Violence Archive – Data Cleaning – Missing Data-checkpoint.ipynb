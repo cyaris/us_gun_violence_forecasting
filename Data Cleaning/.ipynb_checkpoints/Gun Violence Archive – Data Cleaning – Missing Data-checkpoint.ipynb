{
 "cells": [
  {
   "cell_type": "code",
   "execution_count": 53,
   "metadata": {},
   "outputs": [],
   "source": [
    "import pandas as pd\n",
    "import numpy as np\n",
    "from copy import deepcopy"
   ]
  },
  {
   "cell_type": "code",
   "execution_count": 60,
   "metadata": {},
   "outputs": [],
   "source": [
    "pd.set_option('display.float_format', lambda x: '%.2f' % x)\n",
    "pd.set_option('display.max_columns', None)"
   ]
  },
  {
   "cell_type": "code",
   "execution_count": 61,
   "metadata": {},
   "outputs": [],
   "source": [
    "df_states = pd.read_pickle('../Pickles/df_states.pkl')\n",
    "df_date = pd.read_pickle('../Pickles/df_date.pkl')"
   ]
  },
  {
   "cell_type": "code",
   "execution_count": 62,
   "metadata": {},
   "outputs": [],
   "source": [
    "df_states.drop(['avg_victim_age', 'victim_age_ratio',\n",
    "                'avg_suspect_age', 'suspect_age_ratio',\n",
    "                'num_participants', 'avg_participant_age',\n",
    "                'participant_age_ratio', 'congressional_district',\n",
    "                'state_house_district', 'state_senate_district'],\n",
    "               axis = 1, inplace = True)\n",
    "df_date.drop(['avg_victim_age', 'victim_age_ratio',\n",
    "              'avg_suspect_age', 'suspect_age_ratio',\n",
    "              'num_participants', 'avg_participant_age',\n",
    "              'participant_age_ratio', 'congressional_district',\n",
    "              'state_house_district', 'state_senate_district'],\n",
    "             axis = 1, inplace = True)"
   ]
  },
  {
   "cell_type": "code",
   "execution_count": 64,
   "metadata": {},
   "outputs": [
    {
     "data": {
      "text/plain": [
       "Index(['date', 'num_incidents', 'num_killed', 'num_injured', 'gun_stolen',\n",
       "       'num_guns_involved', 'suicide', 'accidental', 'domestic_violence',\n",
       "       'gang_related', 'non_shooting_incident', 'gun_shop_robbery',\n",
       "       'drive_by_shooting', 'officer_involved_shooting', 'child_involved',\n",
       "       'mass_shooting', 'drug_involved', 'assault_weapon', 'num_unharmed',\n",
       "       'num_arrested', 'num_suspects', 'num_victims'],\n",
       "      dtype='object')"
      ]
     },
     "execution_count": 64,
     "metadata": {},
     "output_type": "execute_result"
    }
   ],
   "source": [
    "df_date.columns"
   ]
  },
  {
   "cell_type": "code",
   "execution_count": null,
   "metadata": {},
   "outputs": [],
   "source": [
    "df_states.columns"
   ]
  },
  {
   "cell_type": "code",
   "execution_count": null,
   "metadata": {},
   "outputs": [],
   "source": [
    "all_dates = pd.period_range(min(df_date['date']), max(df_date['date']))\n",
    "for date in all_dates:\n",
    "    if pd.Period.to_timestamp(date) not in list(df_date['date']):\n",
    "        df_date_append = pd.DataFrame(np.array([\n",
    "            date, 0, 0, 0, 0, 0, 0, 0, 0, 0, 0, 0, 0,\n",
    "            0, 0, 0, 0, 0, 0, 0, 0, 0]).reshape(1, -1),\n",
    "                                 columns = list(df_date.columns))\n",
    "        df_date = df_date.append(df_date_append, ignore_index = True)\n",
    "        \n",
    "all_dates = pd.period_range(min(df_states['date']), max(df_states['date']))\n",
    "for date in all_dates:\n",
    "    for state in df_states['state'].unique():\n",
    "        if pd.Period.to_timestamp(date) not in list(df_states[df_states['state']==state]['date']):\n",
    "            df_date_append = pd.DataFrame(np.array([\n",
    "                state, date, 0, 0, 0, 0, 0, 0, 0, 0, 0, 0, 0, 0,\n",
    "                0, 0, 0, 0, 0, 0, 0, 0, 0]).reshape(1, -1),\n",
    "                                     columns = list(df_states.columns))\n",
    "            df_states = df_states.append(df_date_append, ignore_index = True)"
   ]
  },
  {
   "cell_type": "code",
   "execution_count": null,
   "metadata": {},
   "outputs": [],
   "source": [
    "print(len(df_date[df_date['num_incidents']==0]))\n",
    "print(len(df_states[df_states['num_incidents']==0]))"
   ]
  },
  {
   "cell_type": "code",
   "execution_count": null,
   "metadata": {},
   "outputs": [],
   "source": []
  }
 ],
 "metadata": {
  "kernelspec": {
   "display_name": "Python 3",
   "language": "python",
   "name": "python3"
  },
  "language_info": {
   "codemirror_mode": {
    "name": "ipython",
    "version": 3
   },
   "file_extension": ".py",
   "mimetype": "text/x-python",
   "name": "python",
   "nbconvert_exporter": "python",
   "pygments_lexer": "ipython3",
   "version": "3.6.4"
  }
 },
 "nbformat": 4,
 "nbformat_minor": 2
}
