{
 "cells": [
  {
   "cell_type": "code",
   "execution_count": 1,
   "metadata": {},
   "outputs": [],
   "source": [
    "import pandas as pd\n",
    "import numpy as np"
   ]
  },
  {
   "cell_type": "code",
   "execution_count": 2,
   "metadata": {},
   "outputs": [],
   "source": [
    "pd.set_option('display.float_format', lambda x: '%.2f' % x)\n",
    "pd.set_option('display.max_columns', None)"
   ]
  },
  {
   "cell_type": "code",
   "execution_count": 3,
   "metadata": {},
   "outputs": [],
   "source": [
    "df_states = pd.read_pickle('../Pickles/df_states.pkl')\n",
    "df_date = pd.read_pickle('../Pickles/df_date.pkl')\n",
    "state_laws_df = pd.read_pickle('../Pickles/state_firearm_laws.pkl')"
   ]
  },
  {
   "cell_type": "code",
   "execution_count": 4,
   "metadata": {},
   "outputs": [],
   "source": [
    "df_states.drop(['avg_victim_age', 'victim_age_ratio',\n",
    "                'avg_suspect_age', 'suspect_age_ratio',\n",
    "                'num_participants', 'avg_participant_age',\n",
    "                'participant_age_ratio', 'congressional_district',\n",
    "                'state_house_district', 'state_senate_district'],\n",
    "               axis = 1, inplace = True)\n",
    "df_date.drop(['avg_victim_age', 'victim_age_ratio',\n",
    "              'avg_suspect_age', 'suspect_age_ratio',\n",
    "              'num_participants', 'avg_participant_age',\n",
    "              'participant_age_ratio', 'congressional_district',\n",
    "              'state_house_district', 'state_senate_district'],\n",
    "             axis = 1, inplace = True)"
   ]
  },
  {
   "cell_type": "code",
   "execution_count": 5,
   "metadata": {},
   "outputs": [
    {
     "data": {
      "text/plain": [
       "Index(['date', 'num_incidents', 'num_killed', 'num_injured', 'gun_stolen',\n",
       "       'num_guns_involved', 'suicide', 'accidental', 'domestic_violence',\n",
       "       'gang_related', 'non_shooting_incident', 'gun_shop_robbery',\n",
       "       'drive_by_shooting', 'officer_involved_shooting', 'child_involved',\n",
       "       'mass_shooting', 'drug_involved', 'assault_weapon', 'num_unharmed',\n",
       "       'num_arrested', 'num_suspects', 'num_victims'],\n",
       "      dtype='object')"
      ]
     },
     "execution_count": 5,
     "metadata": {},
     "output_type": "execute_result"
    }
   ],
   "source": [
    "df_date.columns"
   ]
  },
  {
   "cell_type": "code",
   "execution_count": 6,
   "metadata": {},
   "outputs": [
    {
     "data": {
      "text/plain": [
       "Index(['state', 'date', 'num_incidents', 'num_killed', 'num_injured',\n",
       "       'gun_stolen', 'num_guns_involved', 'suicide', 'accidental',\n",
       "       'domestic_violence', 'gang_related', 'non_shooting_incident',\n",
       "       'gun_shop_robbery', 'drive_by_shooting', 'officer_involved_shooting',\n",
       "       'child_involved', 'mass_shooting', 'drug_involved', 'assault_weapon',\n",
       "       'num_unharmed', 'num_arrested', 'num_suspects', 'num_victims'],\n",
       "      dtype='object')"
      ]
     },
     "execution_count": 6,
     "metadata": {},
     "output_type": "execute_result"
    }
   ],
   "source": [
    "df_states.columns"
   ]
  },
  {
   "cell_type": "code",
   "execution_count": 7,
   "metadata": {},
   "outputs": [],
   "source": [
    "all_dates = pd.period_range(min(df_date['date']), max(df_date['date']))\n",
    "for date in all_dates:\n",
    "    if pd.Period.to_timestamp(date) not in list(df_date['date']):\n",
    "        df_date_append = pd.DataFrame(np.array([\n",
    "            pd.Period.to_timestamp(date), 0, 0, 0, 0,\n",
    "            0, 0, 0, 0, 0, 0, 0, 0, 0, 0, 0, 0, 0, 0,\n",
    "            0, 0, 0]).reshape(1, -1),\n",
    "                                      columns = list(df_date.columns))\n",
    "        df_date = df_date.append(df_date_append, ignore_index = True)\n",
    "        \n",
    "all_dates = pd.period_range(min(df_states['date']), max(df_states['date']))\n",
    "for date in all_dates:\n",
    "    for state in df_states['state'].unique():\n",
    "        if pd.Period.to_timestamp(date) not in list(df_states[df_states['state']==state]['date']):\n",
    "            df_date_append = pd.DataFrame(np.array([\n",
    "                state, pd.Period.to_timestamp(date),\n",
    "                0, 0, 0, 0, 0, 0, 0, 0, 0,\n",
    "                0, 0, 0, 0, 0, 0, 0, 0, 0,\n",
    "                0, 0, 0]).reshape(1, -1),\n",
    "                                     columns = list(df_states.columns))\n",
    "            df_states = df_states.append(df_date_append, ignore_index = True)"
   ]
  },
  {
   "cell_type": "code",
   "execution_count": 8,
   "metadata": {},
   "outputs": [],
   "source": [
    "df_states['date'] = pd.to_datetime(df_states['date'])\n",
    "df_states['num_guns_involved'] = df_states['num_guns_involved'].astype(int)\n",
    "df_states['num_killed'] = df_states['num_killed'].astype(int)\n",
    "df_states['num_injured'] = df_states['num_incidents'].astype(int)\n",
    "df_states['num_incidents'] = df_states['num_injured'].astype(int)\n",
    "df_states['gun_stolen'] = df_states['gun_stolen'].astype(int)\n",
    "df_states['suicide'] = df_states['suicide'].astype(int)\n",
    "df_states['accidental'] = df_states['accidental'].astype(int)\n",
    "df_states['domestic_violence'] = df_states['domestic_violence'].astype(int)\n",
    "df_states['gang_related'] = df_states['gang_related'].astype(int)\n",
    "df_states['non_shooting_incident'] = df_states['non_shooting_incident'].astype(int)\n",
    "df_states['gun_shop_robbery'] = df_states['gun_shop_robbery'].astype(int)\n",
    "df_states['drive_by_shooting'] = df_states['drive_by_shooting'].astype(int)\n",
    "df_states['officer_involved_shooting'] = df_states['officer_involved_shooting'].astype(int)\n",
    "df_states['child_involved'] = df_states['child_involved'].astype(int)\n",
    "df_states['mass_shooting'] = df_states['mass_shooting'].astype(int)\n",
    "df_states['drug_involved'] = df_states['drug_involved'].astype(int)\n",
    "df_states['assault_weapon'] = df_states['assault_weapon'].astype(int)\n",
    "df_states['num_unharmed'] = df_states['num_unharmed'].astype(int)\n",
    "df_states['num_arrested'] = df_states['num_arrested'].astype(int)\n",
    "df_states['num_victims'] = df_states['num_victims'].astype(int)\n",
    "df_states['num_suspects'] = df_states['num_suspects'].astype(int)\n",
    "\n",
    "df_date['date'] = pd.to_datetime(df_date['date'])\n",
    "df_date['num_guns_involved'] = df_date['num_guns_involved'].astype(int)\n",
    "df_date['num_killed'] = df_date['num_killed'].astype(int)\n",
    "df_date['num_injured'] = df_date['num_incidents'].astype(int)\n",
    "df_date['num_incidents'] = df_date['num_injured'].astype(int)\n",
    "df_date['gun_stolen'] = df_date['gun_stolen'].astype(int)\n",
    "df_date['suicide'] = df_date['suicide'].astype(int)\n",
    "df_date['accidental'] = df_date['accidental'].astype(int)\n",
    "df_date['domestic_violence'] = df_date['domestic_violence'].astype(int)\n",
    "df_date['gang_related'] = df_date['gang_related'].astype(int)\n",
    "df_date['non_shooting_incident'] = df_date['non_shooting_incident'].astype(int)\n",
    "df_date['gun_shop_robbery'] = df_date['gun_shop_robbery'].astype(int)\n",
    "df_date['drive_by_shooting'] = df_date['drive_by_shooting'].astype(int)\n",
    "df_date['officer_involved_shooting'] = df_date['officer_involved_shooting'].astype(int)\n",
    "df_date['child_involved'] = df_date['child_involved'].astype(int)\n",
    "df_date['mass_shooting'] = df_date['mass_shooting'].astype(int)\n",
    "df_date['drug_involved'] = df_date['drug_involved'].astype(int)\n",
    "df_date['assault_weapon'] = df_date['assault_weapon'].astype(int)\n",
    "df_date['num_unharmed'] = df_date['num_unharmed'].astype(int)\n",
    "df_date['num_arrested'] = df_date['num_arrested'].astype(int)\n",
    "df_date['num_victims'] = df_date['num_victims'].astype(int)\n",
    "df_date['num_suspects'] = df_date['num_suspects'].astype(int)"
   ]
  },
  {
   "cell_type": "code",
   "execution_count": 9,
   "metadata": {},
   "outputs": [],
   "source": [
    "df_states['year'] = df_states['date'].dt.year\n",
    "df_states = pd.merge(df_states, state_laws_df, on=['state', 'year'], how='left')\n",
    "\n",
    "df_states = df_states.sort_values(by = 'date', ascending = True)\n",
    "df_states = df_states.reset_index()\n",
    "df_states.drop(['index'], axis = 1, inplace = True)\n",
    "df_states.to_pickle('../Pickles/df_states_2.pkl')\n",
    "\n",
    "df_date = df_date.sort_values(by = 'date', ascending = True)\n",
    "df_date = df_date.reset_index()\n",
    "df_date.drop(['index'], axis = 1, inplace = True)\n",
    "df_date.to_pickle('../Pickles/df_date_2.pkl')"
   ]
  },
  {
   "cell_type": "code",
   "execution_count": 11,
   "metadata": {},
   "outputs": [],
   "source": [
    "df_states = pd.read_pickle('../Pickles/df_states_2.pkl')\n",
    "df_date = pd.read_pickle('../Pickles/df_date_2.pkl')"
   ]
  },
  {
   "cell_type": "code",
   "execution_count": 12,
   "metadata": {},
   "outputs": [
    {
     "name": "stdout",
     "output_type": "stream",
     "text": [
      "191\n",
      "37832\n"
     ]
    }
   ],
   "source": [
    "print(len(df_date[df_date['num_incidents']==0]))\n",
    "print(len(df_states[df_states['num_incidents']==0]))"
   ]
  },
  {
   "cell_type": "code",
   "execution_count": null,
   "metadata": {},
   "outputs": [],
   "source": []
  }
 ],
 "metadata": {
  "kernelspec": {
   "display_name": "Python 3",
   "language": "python",
   "name": "python3"
  },
  "language_info": {
   "codemirror_mode": {
    "name": "ipython",
    "version": 3
   },
   "file_extension": ".py",
   "mimetype": "text/x-python",
   "name": "python",
   "nbconvert_exporter": "python",
   "pygments_lexer": "ipython3",
   "version": "3.7.1"
  }
 },
 "nbformat": 4,
 "nbformat_minor": 2
}
