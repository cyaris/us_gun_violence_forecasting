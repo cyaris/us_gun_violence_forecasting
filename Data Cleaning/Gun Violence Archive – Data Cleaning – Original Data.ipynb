{
 "cells": [
  {
   "cell_type": "code",
   "execution_count": 1,
   "metadata": {},
   "outputs": [],
   "source": [
    "import pandas as pd\n",
    "import numpy as np\n",
    "import pickle as pkl\n",
    "from copy import deepcopy"
   ]
  },
  {
   "cell_type": "code",
   "execution_count": 2,
   "metadata": {},
   "outputs": [],
   "source": [
    "pd.set_option('display.float_format', lambda x: '%.2f' % x)\n",
    "pd.set_option('display.max_columns', None)\n",
    "pd.set_option('display.max_colwidth', 1000)"
   ]
  },
  {
   "cell_type": "code",
   "execution_count": 48,
   "metadata": {},
   "outputs": [],
   "source": [
    "df = pd.read_csv('../Data Sources/gun_violence_archive_github_download.csv')\n",
    "\n",
    "df['participant_type'] = df['participant_type'].replace('\\|', ':', regex = True).str.split(\":\")\n",
    "df['participant_status'] = df['participant_status'].replace('\\|', ':', regex = True).str.split(\":\")\n",
    "df['participant_gender'] = df['participant_gender'].replace('\\|', ':', regex = True).str.split(\":\")\n",
    "df['participant_age'] = df['participant_age'].replace('\\|', ':', regex = True).str.split(\":\")\n",
    "\n",
    "df.rename({'n_guns_involved': 'num_guns_involved'}, axis = 1, inplace = True)\n",
    "df.drop(['n_killed', 'n_injured', 'source_url', 'incident_url_fields_missing'], axis = 1, inplace = True)"
   ]
  },
  {
   "cell_type": "markdown",
   "metadata": {},
   "source": [
    "merge here"
   ]
  },
  {
   "cell_type": "code",
   "execution_count": 51,
   "metadata": {},
   "outputs": [
    {
     "name": "stdout",
     "output_type": "stream",
     "text": [
      "<class 'pandas.core.frame.DataFrame'>\n",
      "RangeIndex: 214814 entries, 0 to 214813\n",
      "Data columns (total 25 columns):\n",
      "incident_id                 214814 non-null int64\n",
      "date                        214814 non-null object\n",
      "state                       214814 non-null object\n",
      "city_or_county              214814 non-null object\n",
      "address                     199576 non-null object\n",
      "incident_url                214814 non-null object\n",
      "congressional_district      204128 non-null float64\n",
      "gun_stolen                  124623 non-null object\n",
      "gun_type                    124655 non-null object\n",
      "incident_characteristics    214537 non-null object\n",
      "latitude                    207413 non-null float64\n",
      "location_description        37296 non-null object\n",
      "longitude                   207413 non-null float64\n",
      "n_guns_involved             124655 non-null float64\n",
      "notes                       142863 non-null object\n",
      "participant_age             147379 non-null object\n",
      "participant_age_group       197558 non-null object\n",
      "participant_gender          203315 non-null object\n",
      "participant_name            117424 non-null object\n",
      "participant_relationship    15774 non-null object\n",
      "participant_status          212051 non-null object\n",
      "participant_type            214814 non-null object\n",
      "sources                     214489 non-null object\n",
      "state_house_district        180816 non-null float64\n",
      "state_senate_district       186584 non-null float64\n",
      "dtypes: float64(6), int64(1), object(18)\n",
      "memory usage: 41.0+ MB\n"
     ]
    }
   ],
   "source": [
    "df.info()"
   ]
  },
  {
   "cell_type": "code",
   "execution_count": 49,
   "metadata": {},
   "outputs": [
    {
     "name": "stdout",
     "output_type": "stream",
     "text": [
      "address                      16497\n",
      "congressional_district       11944\n",
      "gun_stolen                   99498\n",
      "gun_type                     99451\n",
      "incident_characteristics       326\n",
      "latitude                      7923\n",
      "location_description        197588\n",
      "longitude                     7923\n",
      "n_guns_involved              99451\n",
      "notes                        81017\n",
      "participant_age              92298\n",
      "participant_age_group        42119\n",
      "participant_gender           36362\n",
      "participant_name            122253\n",
      "participant_relationship    223903\n",
      "participant_status           27626\n",
      "participant_type             24863\n",
      "sources                        609\n",
      "state_house_district         38772\n",
      "state_senate_district        32335\n",
      "dtype: int64\n"
     ]
    }
   ],
   "source": [
    "null_columns = df.columns[df.isnull().any()]\n",
    "print(df[null_columns].isnull().sum())"
   ]
  },
  {
   "cell_type": "code",
   "execution_count": 50,
   "metadata": {},
   "outputs": [],
   "source": [
    "df = deepcopy(df[df['participant_type'].isnull()==False].reset_index())\n",
    "df.drop('index', axis = 1, inplace = True)"
   ]
  },
  {
   "cell_type": "code",
   "execution_count": 52,
   "metadata": {},
   "outputs": [],
   "source": [
    "df['date'] = pd.to_datetime(df['date'])\n",
    "df['gun_stolen'] = df['gun_stolen'].astype(str)\n",
    "df['incident_characteristics'] = df['incident_characteristics'].astype(str)\n",
    "df['participant_relationship'] = df['participant_relationship'].astype(str)"
   ]
  },
  {
   "cell_type": "code",
   "execution_count": 53,
   "metadata": {},
   "outputs": [],
   "source": [
    "df.loc[(['Stolen' in s for s in df['gun_stolen']]) or\n",
    "       (['stolen' in s for s in df['gun_stolen']]) or\n",
    "       (['Gun(s) stolen' in s for s in df['incident_characteristics']]) or\n",
    "       (['Stolen/Illegally owned gun{s}' in s for s in df['incident_characteristics']]) or\n",
    "       (['stolen gun' in s for s in df['incident_characteristics']]), 'gun_stolen'] = 1\n",
    "df.loc[df['gun_stolen']!=1, 'gun_stolen'] = 0\n",
    "df.loc[(['Suicide' in s for s in df['incident_characteristics']]) or\n",
    "       (['suicide' in s for s in df['incident_characteristics']]), 'suicide'] = 1\n",
    "df.loc[df['suicide']!=1, 'suicide'] = 0\n",
    "df.loc[(['Accidental' in s for s in df['incident_characteristics']]) or\n",
    "       (['accidental' in s for s in df['incident_characteristics']]), 'accidental'] = 1\n",
    "df.loc[df['accidental']!=1, 'accidental'] = 0\n",
    "df.loc[(['Domestic Violence' in s for s in df['incident_characteristics']]), 'domestic_violence'] = 1\n",
    "df.loc[(['Domestic Violence' not in s for s in df['incident_characteristics']]), 'domestic_violence'] = 0\n",
    "df.loc[(['Gang' in s for s in df['participant_relationship']]) or\n",
    "       (['Gang' in s for s in df['incident_characteristics']]), 'gang_related'] = 1\n",
    "df.loc[df['gang_related']!=1, 'gang_related'] = 0\n",
    "df.loc[(['Non-Shooting Incident' in s for s in df['incident_characteristics']]), 'non_shooting_incident'] = 1\n",
    "df.loc[df['non_shooting_incident']!=1, 'non_shooting_incident'] = 0\n",
    "df.loc[(['Gun shop robbery' in s for s in df['incident_characteristics']]), 'gun_shop_robbery'] = 1\n",
    "df.loc[df['gun_shop_robbery']!=1, 'gun_shop_robbery'] = 0\n",
    "df.loc[(['Drive-by' in s for s in df['incident_characteristics']]), 'drive_by_shooting'] = 1\n",
    "df.loc[df['drive_by_shooting']!=1, 'drive_by_shooting'] = 0\n",
    "df.loc[(['Officer Involved Shooting' in s for s in df['incident_characteristics']]), 'officer_involved_shooting'] = 1\n",
    "df.loc[df['officer_involved_shooting']!=1, 'officer_involved_shooting'] = 0\n",
    "df.loc[(['Child' in s for s in df['incident_characteristics']]), 'child_involved'] = 1\n",
    "df.loc[df['child_involved']!=1, 'child_involved'] = 0\n",
    "df.loc[(['Mass Shooting' in s for s in df['incident_characteristics']]), 'mass_shooting'] = 1\n",
    "df.loc[df['mass_shooting']!=1, 'mass_shooting'] = 0\n",
    "df.loc[(['Drug' in s for s in df['incident_characteristics']]), 'drug_involved'] = 1\n",
    "df.loc[df['drug_involved']!=1, 'drug_involved'] = 0\n",
    "df.loc[(['Assault weapon' in s for s in df['incident_characteristics']]), 'assault_weapon'] = 1\n",
    "df.loc[df['assault_weapon']!=1, 'assault_weapon'] = 0"
   ]
  },
  {
   "cell_type": "code",
   "execution_count": 11,
   "metadata": {
    "scrolled": true
   },
   "outputs": [
    {
     "name": "stdout",
     "output_type": "stream",
     "text": [
      "gun_stolen: 5543\n",
      "suicide: 6101\n",
      "accidental: 8131\n",
      "domestic_violence: 10794\n",
      "gang_related: 288\n",
      "non_shooting_incident: 38321\n",
      "gun_shop_robbery: 422\n",
      "drive_by_shooting: 12030\n",
      "officer_involved_shooting: 13810\n",
      "child_involved: 2104\n",
      "mass_shooting: 1637\n",
      "drug_involved: 16722\n",
      "assault_weapon: 1877\n"
     ]
    }
   ],
   "source": [
    "boolean_columns = ['gun_stolen', 'suicide', 'accidental', 'domestic_violence',\n",
    "                   'gang_related', 'non_shooting_incident', 'gun_shop_robbery',\n",
    "                   'drive_by_shooting', 'officer_involved_shooting', 'child_involved',\n",
    "                   'mass_shooting', 'drug_involved', 'assault_weapon']\n",
    "\n",
    "for column in boolean_columns:\n",
    "    df[column] = df[column].astype(int)\n",
    "    print(\"{}: \".format(column) + str(len(df[df[column]==1])))"
   ]
  },
  {
   "cell_type": "code",
   "execution_count": 54,
   "metadata": {},
   "outputs": [],
   "source": [
    "df.drop(['address', 'incident_url', 'sources',\n",
    "         'incident_characteristics', 'participant_name',\n",
    "         'participant_gender', 'participant_relationship',\n",
    "         'gun_type', 'participant_age_group',\n",
    "         'location_description', 'notes'], axis = 1, inplace = True)"
   ]
  },
  {
   "cell_type": "code",
   "execution_count": null,
   "metadata": {},
   "outputs": [],
   "source": [
    "df.to_pickle('../Pickles/df1.pkl')"
   ]
  },
  {
   "cell_type": "code",
   "execution_count": 9,
   "metadata": {},
   "outputs": [],
   "source": [
    "df = pd.read_pickle('../Pickles/df1.pkl')"
   ]
  },
  {
   "cell_type": "code",
   "execution_count": 4,
   "metadata": {},
   "outputs": [
    {
     "data": {
      "text/plain": [
       "214814"
      ]
     },
     "execution_count": 4,
     "metadata": {},
     "output_type": "execute_result"
    }
   ],
   "source": [
    "len(df)"
   ]
  },
  {
   "cell_type": "code",
   "execution_count": 56,
   "metadata": {
    "scrolled": true
   },
   "outputs": [
    {
     "data": {
      "text/html": [
       "<div>\n",
       "<style scoped>\n",
       "    .dataframe tbody tr th:only-of-type {\n",
       "        vertical-align: middle;\n",
       "    }\n",
       "\n",
       "    .dataframe tbody tr th {\n",
       "        vertical-align: top;\n",
       "    }\n",
       "\n",
       "    .dataframe thead th {\n",
       "        text-align: right;\n",
       "    }\n",
       "</style>\n",
       "<table border=\"1\" class=\"dataframe\">\n",
       "  <thead>\n",
       "    <tr style=\"text-align: right;\">\n",
       "      <th></th>\n",
       "      <th>incident_id</th>\n",
       "      <th>date</th>\n",
       "      <th>state</th>\n",
       "      <th>city_or_county</th>\n",
       "      <th>congressional_district</th>\n",
       "      <th>gun_stolen</th>\n",
       "      <th>latitude</th>\n",
       "      <th>longitude</th>\n",
       "      <th>num_guns_involved</th>\n",
       "      <th>participant_age</th>\n",
       "      <th>participant_status</th>\n",
       "      <th>participant_type</th>\n",
       "      <th>state_house_district</th>\n",
       "      <th>state_senate_district</th>\n",
       "      <th>suicide</th>\n",
       "      <th>accidental</th>\n",
       "      <th>domestic_violence</th>\n",
       "      <th>gang_related</th>\n",
       "      <th>non_shooting_incident</th>\n",
       "      <th>gun_shop_robbery</th>\n",
       "      <th>drive_by_shooting</th>\n",
       "      <th>officer_involved_shooting</th>\n",
       "      <th>child_involved</th>\n",
       "      <th>mass_shooting</th>\n",
       "      <th>drug_involved</th>\n",
       "      <th>assault_weapon</th>\n",
       "    </tr>\n",
       "  </thead>\n",
       "  <tbody>\n",
       "    <tr>\n",
       "      <th>0</th>\n",
       "      <td>461105</td>\n",
       "      <td>2013-01-01</td>\n",
       "      <td>Pennsylvania</td>\n",
       "      <td>Mckeesport</td>\n",
       "      <td>14.00</td>\n",
       "      <td>0</td>\n",
       "      <td>40.35</td>\n",
       "      <td>-79.86</td>\n",
       "      <td>nan</td>\n",
       "      <td>[0, , 20]</td>\n",
       "      <td>[0, , Arrested, , 1, , Injured, , 2, , Injured, , 3, , Injured, , 4, , Injured]</td>\n",
       "      <td>[0, , Victim, , 1, , Victim, , 2, , Victim, , 3, , Victim, , 4, , Subject-Suspect]</td>\n",
       "      <td>nan</td>\n",
       "      <td>nan</td>\n",
       "      <td>0</td>\n",
       "      <td>0</td>\n",
       "      <td>0</td>\n",
       "      <td>0</td>\n",
       "      <td>0</td>\n",
       "      <td>0</td>\n",
       "      <td>0</td>\n",
       "      <td>0</td>\n",
       "      <td>0</td>\n",
       "      <td>1</td>\n",
       "      <td>0</td>\n",
       "      <td>0</td>\n",
       "    </tr>\n",
       "    <tr>\n",
       "      <th>1</th>\n",
       "      <td>460726</td>\n",
       "      <td>2013-01-01</td>\n",
       "      <td>California</td>\n",
       "      <td>Hawthorne</td>\n",
       "      <td>43.00</td>\n",
       "      <td>0</td>\n",
       "      <td>33.91</td>\n",
       "      <td>-118.33</td>\n",
       "      <td>nan</td>\n",
       "      <td>[0, , 20]</td>\n",
       "      <td>[0, , Killed, , 1, , Injured, , 2, , Injured, , 3, , Injured]</td>\n",
       "      <td>[0, , Victim, , 1, , Victim, , 2, , Victim, , 3, , Victim, , 4, , Subject-Suspect]</td>\n",
       "      <td>62.00</td>\n",
       "      <td>35.00</td>\n",
       "      <td>0</td>\n",
       "      <td>0</td>\n",
       "      <td>0</td>\n",
       "      <td>0</td>\n",
       "      <td>0</td>\n",
       "      <td>0</td>\n",
       "      <td>0</td>\n",
       "      <td>0</td>\n",
       "      <td>0</td>\n",
       "      <td>1</td>\n",
       "      <td>0</td>\n",
       "      <td>0</td>\n",
       "    </tr>\n",
       "    <tr>\n",
       "      <th>2</th>\n",
       "      <td>478855</td>\n",
       "      <td>2013-01-01</td>\n",
       "      <td>Ohio</td>\n",
       "      <td>Lorain</td>\n",
       "      <td>9.00</td>\n",
       "      <td>0</td>\n",
       "      <td>41.45</td>\n",
       "      <td>-82.14</td>\n",
       "      <td>2.00</td>\n",
       "      <td>[0, , 25, , 1, , 31, , 2, , 33, , 3, , 34, , 4, , 33]</td>\n",
       "      <td>[0, , Injured, Unharmed, Arrested, , 1, , Unharmed, Arrested, , 2, , Killed, , 3, , Injured, , 4, , Injured]</td>\n",
       "      <td>[0, , Subject-Suspect, , 1, , Subject-Suspect, , 2, , Victim, , 3, , Victim, , 4, , Victim]</td>\n",
       "      <td>56.00</td>\n",
       "      <td>13.00</td>\n",
       "      <td>0</td>\n",
       "      <td>0</td>\n",
       "      <td>0</td>\n",
       "      <td>0</td>\n",
       "      <td>0</td>\n",
       "      <td>0</td>\n",
       "      <td>0</td>\n",
       "      <td>0</td>\n",
       "      <td>0</td>\n",
       "      <td>0</td>\n",
       "      <td>0</td>\n",
       "      <td>0</td>\n",
       "    </tr>\n",
       "  </tbody>\n",
       "</table>\n",
       "</div>"
      ],
      "text/plain": [
       "   incident_id       date         state city_or_county  \\\n",
       "0       461105 2013-01-01  Pennsylvania     Mckeesport   \n",
       "1       460726 2013-01-01    California      Hawthorne   \n",
       "2       478855 2013-01-01          Ohio         Lorain   \n",
       "\n",
       "   congressional_district  gun_stolen  latitude  longitude  num_guns_involved  \\\n",
       "0                   14.00           0     40.35     -79.86                nan   \n",
       "1                   43.00           0     33.91    -118.33                nan   \n",
       "2                    9.00           0     41.45     -82.14               2.00   \n",
       "\n",
       "                                         participant_age  \\\n",
       "0                                              [0, , 20]   \n",
       "1                                              [0, , 20]   \n",
       "2  [0, , 25, , 1, , 31, , 2, , 33, , 3, , 34, , 4, , 33]   \n",
       "\n",
       "                                                                                             participant_status  \\\n",
       "0                               [0, , Arrested, , 1, , Injured, , 2, , Injured, , 3, , Injured, , 4, , Injured]   \n",
       "1                                                 [0, , Killed, , 1, , Injured, , 2, , Injured, , 3, , Injured]   \n",
       "2  [0, , Injured, Unharmed, Arrested, , 1, , Unharmed, Arrested, , 2, , Killed, , 3, , Injured, , 4, , Injured]   \n",
       "\n",
       "                                                                              participant_type  \\\n",
       "0           [0, , Victim, , 1, , Victim, , 2, , Victim, , 3, , Victim, , 4, , Subject-Suspect]   \n",
       "1           [0, , Victim, , 1, , Victim, , 2, , Victim, , 3, , Victim, , 4, , Subject-Suspect]   \n",
       "2  [0, , Subject-Suspect, , 1, , Subject-Suspect, , 2, , Victim, , 3, , Victim, , 4, , Victim]   \n",
       "\n",
       "   state_house_district  state_senate_district  suicide  accidental  \\\n",
       "0                   nan                    nan        0           0   \n",
       "1                 62.00                  35.00        0           0   \n",
       "2                 56.00                  13.00        0           0   \n",
       "\n",
       "   domestic_violence  gang_related  non_shooting_incident  gun_shop_robbery  \\\n",
       "0                  0             0                      0                 0   \n",
       "1                  0             0                      0                 0   \n",
       "2                  0             0                      0                 0   \n",
       "\n",
       "   drive_by_shooting  officer_involved_shooting  child_involved  \\\n",
       "0                  0                          0               0   \n",
       "1                  0                          0               0   \n",
       "2                  0                          0               0   \n",
       "\n",
       "   mass_shooting  drug_involved  assault_weapon  \n",
       "0              1              0               0  \n",
       "1              1              0               0  \n",
       "2              0              0               0  "
      ]
     },
     "execution_count": 56,
     "metadata": {},
     "output_type": "execute_result"
    }
   ],
   "source": [
    "df.head(3)"
   ]
  },
  {
   "cell_type": "code",
   "execution_count": null,
   "metadata": {},
   "outputs": [],
   "source": [
    "part_type_df = df.set_index(['incident_id'])['participant_type'].apply(pd.Series).stack().reset_index(level=1, drop=True)\n",
    "part_type_df = part_type_df.reset_index()\n",
    "part_type_df.columns = ['incident_id','participant_type']\n",
    "part_type_df = part_type_df[(part_type_df['participant_type']=='Victim') | (part_type_df['participant_type']=='Subject-Suspect')]\n",
    "part_type_df['participant_index'] = part_type_df.groupby('incident_id').cumcount()\n",
    "part_type_df = part_type_df.reset_index()\n",
    "part_type_df.drop(['index'], axis = 1, inplace = True)\n",
    "\n",
    "part_age_df = df.set_index(['incident_id'])['participant_age'].apply(pd.Series).stack().reset_index(level=1, drop=True)\n",
    "part_age_df = part_age_df.reset_index()\n",
    "part_age_df.columns = ['incident_id','participant_age']\n",
    "part_age_df = part_age_df[part_age_df['participant_age'] != '']\n",
    "part_age_df = pd.DataFrame({'incident_id': part_age_df['incident_id'].iloc[::2].values, 'participant_index': part_age_df['participant_age'].iloc[::2].values, 'participant_age': part_age_df['participant_age'].iloc[1::2].values})\n",
    "part_age_df['participant_index'] = part_age_df['participant_index'].astype(int)\n",
    "\n",
    "part_status_df = df.set_index(['incident_id'])['participant_status'].apply(pd.Series).stack().reset_index(level=1, drop=True)\n",
    "part_status_df = part_status_df.reset_index()\n",
    "part_status_df.columns = ['incident_id','participant_status']\n",
    "part_status_df = part_status_df[part_status_df['participant_status'] != '']\n",
    "part_status_df = pd.DataFrame({'incident_id': part_status_df['incident_id'].iloc[::2].values, 'participant_index': part_status_df['participant_status'].iloc[::2].values, 'participant_status': part_status_df['participant_status'].iloc[1::2].values})\n",
    "part_status_df['participant_index'] = part_status_df['participant_index'].astype(int)\n",
    "\n",
    "part_df = pd.merge(part_type_df, part_age_df, on=['incident_id', 'participant_index'], how='outer')\n",
    "part_df = pd.merge(part_df, part_status_df, on=['incident_id', 'participant_index'], how='outer')\n",
    "\n",
    "part_df['participant_type'] = part_df['participant_type'].astype(str)\n",
    "part_df['participant_status'] = part_df['participant_status'].astype(str)\n",
    "part_df['participant_age'] = part_df['participant_age'].astype(float)\n",
    "\n",
    "part_df.loc[(['Unharmed' in s for s in part_df['participant_status']]), 'num_unharmed'] = 1\n",
    "part_df.loc[(['Unharmed' not in s for s in part_df['participant_status']]), 'num_unharmed'] = 0\n",
    "part_df.loc[(['Arrested' in s for s in part_df['participant_status']]), 'num_arrested'] = 1\n",
    "part_df.loc[(['Arrested' not in s for s in part_df['participant_status']]), 'num_arrested'] = 0\n",
    "part_df.loc[(['Killed' in s for s in part_df['participant_status']]), 'num_killed'] = 1\n",
    "part_df.loc[(['Killed' not in s for s in part_df['participant_status']]), 'num_killed'] = 0\n",
    "part_df.loc[(['Injured' in s for s in part_df['participant_status']]), 'num_injured'] = 1\n",
    "part_df.loc[(['Injured' not in s for s in part_df['participant_status']]), 'num_injured'] = 0"
   ]
  },
  {
   "cell_type": "code",
   "execution_count": null,
   "metadata": {},
   "outputs": [],
   "source": [
    "len(part_df['incident_id'].unique())==len(df['incident_id'].unique())"
   ]
  },
  {
   "cell_type": "code",
   "execution_count": null,
   "metadata": {},
   "outputs": [],
   "source": [
    "part_df.head()"
   ]
  },
  {
   "cell_type": "code",
   "execution_count": null,
   "metadata": {},
   "outputs": [],
   "source": [
    "aggregations_1 = {\n",
    "    'num_unharmed': 'sum',\n",
    "    'num_arrested': 'sum',\n",
    "    'num_killed': 'sum',\n",
    "    'num_injured': 'sum',\n",
    "    }\n",
    "\n",
    "aggregations_2 = {\n",
    "    'participant_index': 'count',\n",
    "    'participant_age': 'mean',\n",
    "    }\n",
    "\n",
    "part_status_df_group = part_df.groupby(['incident_id']).agg(aggregations_1).reset_index()\n",
    "part_df_group = part_df.groupby(['incident_id']).agg(aggregations_2).reset_index()\n",
    "part_type_df_group = part_df.groupby(['incident_id', 'participant_type']).agg(aggregations_2).reset_index()\n",
    "victim_df = deepcopy(part_type_df_group[part_type_df_group['participant_type']=='Victim'])\n",
    "suspect_df = deepcopy(part_type_df_group[part_type_df_group['participant_type']=='Subject-Suspect'])\n",
    "\n",
    "part_df_group.rename({'participant_age': 'avg_participant_age', 'participant_index': 'num_participants'}, axis = 1, inplace = True)\n",
    "victim_df.rename({'participant_age': 'avg_victim_age', 'participant_index': 'num_victims'}, axis = 1, inplace = True)\n",
    "suspect_df.rename({'participant_age': 'avg_suspect_age', 'participant_index': 'num_suspects'}, axis = 1, inplace = True)\n",
    "\n",
    "victim_df.drop(['participant_type'], axis = 1, inplace = True)\n",
    "suspect_df.drop(['participant_type'], axis = 1, inplace = True)"
   ]
  },
  {
   "cell_type": "code",
   "execution_count": null,
   "metadata": {},
   "outputs": [],
   "source": [
    "len(df)"
   ]
  },
  {
   "cell_type": "code",
   "execution_count": null,
   "metadata": {},
   "outputs": [],
   "source": [
    "df = pd.merge(df, part_df_group, on=['incident_id'], how='outer')\n",
    "df = pd.merge(df, part_status_df_group, on=['incident_id'], how='outer')\n",
    "df = pd.merge(df, victim_df, on=['incident_id'], how='outer')\n",
    "df = pd.merge(df, suspect_df, on=['incident_id'], how='outer')\n",
    "\n",
    "df.loc[df['num_suspects'].isnull(), 'num_suspects'] = 0\n",
    "df.drop(['participant_age', 'participant_status', 'participant_type'], axis = 1, inplace = True)"
   ]
  },
  {
   "cell_type": "code",
   "execution_count": null,
   "metadata": {},
   "outputs": [],
   "source": [
    "# # id for las vegas shooting chosing arbitrarily\n",
    "# # added las vegas shooting (originally missing from dataset)\n",
    "# df_append = pd.DataFrame(np.array([\n",
    "#     100117, pd.Timestamp('2017-10-01'), 'Nevada', 'Las Vegas', 59,\n",
    "#     489, None, 0, 36.08833298, -115.171499314, 47,\n",
    "#     None, None, 1, 0, 0, 0, 0, 0, 0, 1, 0, 1, 0, 1,\n",
    "#     910, 35.23232323, 0.028383028, 851, 0, 195,\n",
    "#     34.93877551, 5.581191589, 1, 64, 0.015625]).reshape(1, -1),\n",
    "#                            columns = list(df.columns))\n",
    "# df = df.append([df_append], ignore_index = True)"
   ]
  },
  {
   "cell_type": "code",
   "execution_count": null,
   "metadata": {},
   "outputs": [],
   "source": [
    "# # added incident 1081885 (originally missing from dataset)\n",
    "# df_append_2 = pd.DataFrame(np.array([\n",
    "#     1081885, '2018-02-18', 'Arkansas', 'Hermitage',\n",
    "#     1, 0, 4, 0, 33.393644, -92.224399, 1,\n",
    "#     8, 26, 1, 1, 0, 0, 0, 0, 0, 0, 0, 0, 0, 0,\n",
    "#     2, 48, 0.04166666666, 1, 1, 1,\n",
    "#     38, 0.02631578947, 1, 58, 0.01724137931]).reshape(1, -1),\n",
    "#                          columns = list(df.columns))\n",
    "# df = df.append([df_append_1], ignore_index = True)"
   ]
  },
  {
   "cell_type": "code",
   "execution_count": null,
   "metadata": {},
   "outputs": [],
   "source": [
    "df['date'] = pd.to_datetime(df['date'])\n",
    "df['num_killed'] = df['num_killed'].astype(int)\n",
    "df['num_injured'] = df['num_injured'].astype(int)\n",
    "df['gun_stolen'] = df['gun_stolen'].astype(int)\n",
    "df['suicide'] = df['suicide'].astype(int)\n",
    "df['accidental'] = df['accidental'].astype(int)\n",
    "df['domestic_violence'] = df['domestic_violence'].astype(int)\n",
    "df['gang_related'] = df['gang_related'].astype(int)\n",
    "df['non_shooting_incident'] = df['non_shooting_incident'].astype(int)\n",
    "df['gun_shop_robbery'] = df['gun_shop_robbery'].astype(int)\n",
    "df['drive_by_shooting'] = df['drive_by_shooting'].astype(int)\n",
    "df['officer_involved_shooting'] = df['officer_involved_shooting'].astype(int)\n",
    "df['child_involved'] = df['child_involved'].astype(int)\n",
    "df['mass_shooting'] = df['mass_shooting'].astype(int)\n",
    "df['drug_involved'] = df['drug_involved'].astype(int)\n",
    "df['assault_weapon'] = df['assault_weapon'].astype(int)\n",
    "df['incident_id'] = df['incident_id'].astype(int)\n",
    "df['num_suspects'] = df['num_suspects'].astype(int)\n",
    "df['latitude'] = df['latitude'].astype(float)\n",
    "df['longitude'] = df['longitude'].astype(float)\n",
    "df['num_guns_involved'] = df['num_guns_involved'].astype(float)\n",
    "df['congressional_district'] = df['congressional_district'].astype(float)\n",
    "df['state_house_district'] = df['state_house_district'].astype(float)\n",
    "df['state_senate_district'] = df['state_senate_district'].astype(float)\n",
    "df['avg_participant_age'] = df['avg_participant_age'].astype(float)\n",
    "df['num_unharmed'] = df['num_unharmed'].astype(float)\n",
    "df['num_arrested'] = df['num_arrested'].astype(float)\n",
    "df['num_victims'] = df['num_victims'].astype(float)\n",
    "df['avg_victim_age'] = df['avg_victim_age'].astype(float)\n",
    "df['avg_suspect_age'] = df['avg_suspect_age'].astype(float)\n",
    "df['num_participants'] = df['num_participants'].astype(float)"
   ]
  },
  {
   "cell_type": "code",
   "execution_count": null,
   "metadata": {},
   "outputs": [],
   "source": [
    "len(df)"
   ]
  },
  {
   "cell_type": "code",
   "execution_count": null,
   "metadata": {},
   "outputs": [],
   "source": [
    "df.to_pickle('../Pickles/df2.pkl')"
   ]
  },
  {
   "cell_type": "code",
   "execution_count": null,
   "metadata": {},
   "outputs": [],
   "source": [
    "df = pd.read_pickle('../Pickles/df2.pkl')"
   ]
  },
  {
   "cell_type": "code",
   "execution_count": null,
   "metadata": {},
   "outputs": [],
   "source": [
    "len(df)"
   ]
  },
  {
   "cell_type": "code",
   "execution_count": null,
   "metadata": {
    "scrolled": true
   },
   "outputs": [],
   "source": [
    "df.head()"
   ]
  },
  {
   "cell_type": "code",
   "execution_count": null,
   "metadata": {},
   "outputs": [],
   "source": [
    "aggregations = {\n",
    "    'incident_id': 'count',\n",
    "    'num_killed': 'sum',\n",
    "    'num_injured': 'sum',\n",
    "    'congressional_district': 'mean',\n",
    "    'gun_stolen': 'sum',\n",
    "    'num_guns_involved': 'sum',\n",
    "    'state_house_district': 'mean',\n",
    "    'state_senate_district': 'mean',\n",
    "    'suicide': 'sum',\n",
    "    'accidental': 'sum',\n",
    "    'domestic_violence': 'sum',\n",
    "    'gang_related': 'sum',\n",
    "    'non_shooting_incident': 'sum',\n",
    "    'gun_shop_robbery': 'sum',\n",
    "    'drive_by_shooting': 'sum',\n",
    "    'officer_involved_shooting': 'sum',\n",
    "    'child_involved': 'sum',\n",
    "    'mass_shooting': 'sum',\n",
    "    'drug_involved': 'sum',\n",
    "    'assault_weapon': 'sum',\n",
    "    'num_unharmed': 'sum',\n",
    "    'num_arrested': 'sum',\n",
    "    'num_suspects': 'sum',\n",
    "    'avg_suspect_age': 'mean',\n",
    "    'num_victims': 'sum',\n",
    "    'avg_victim_age': 'mean',\n",
    "    'num_participants': 'sum',\n",
    "    'avg_participant_age': 'mean',\n",
    "    }\n",
    "\n",
    "df_states = df.groupby(['state', 'date']).agg(aggregations).reset_index()\n",
    "df_states.rename({'incident_id': 'num_incidents'}, axis = 1, inplace = True)\n",
    "df_date = df.groupby(['date']).agg(aggregations).reset_index()\n",
    "df_date.rename({'incident_id': 'num_incidents'}, axis = 1, inplace = True)"
   ]
  },
  {
   "cell_type": "code",
   "execution_count": null,
   "metadata": {},
   "outputs": [],
   "source": [
    "df_states.to_pickle('../Pickles/df_states.pkl')\n",
    "df_date.to_pickle('../Pickles/df_date.pkl')"
   ]
  },
  {
   "cell_type": "code",
   "execution_count": 40,
   "metadata": {},
   "outputs": [],
   "source": [
    "df_states = pd.read_pickle('../Pickles/df_states.pkl')\n",
    "df_date = pd.read_pickle('../Pickles/df_date.pkl')\n",
    "state_laws_df = pd.read_pickle('../Pickles/state_firearm_laws.pkl')"
   ]
  },
  {
   "cell_type": "code",
   "execution_count": 41,
   "metadata": {},
   "outputs": [],
   "source": [
    "df_states.drop(['avg_victim_age', 'avg_suspect_age',\n",
    "                'num_participants', 'avg_participant_age',\n",
    "                'congressional_district', 'state_house_district',\n",
    "                'state_senate_district'],\n",
    "               axis = 1, inplace = True)\n",
    "df_date.drop(['avg_victim_age', 'avg_suspect_age', 'num_participants',\n",
    "              'avg_participant_age', 'congressional_district',\n",
    "              'state_house_district', 'state_senate_district'],\n",
    "             axis = 1, inplace = True)"
   ]
  },
  {
   "cell_type": "code",
   "execution_count": 42,
   "metadata": {},
   "outputs": [
    {
     "name": "stdout",
     "output_type": "stream",
     "text": [
      "191 missing dates across the US.\n",
      "449 missing dates in Alabama.\n",
      "1174 missing dates in Alaska.\n",
      "812 missing dates in Arizona.\n",
      "683 missing dates in Arkansas.\n",
      "331 missing dates in California.\n",
      "681 missing dates in Colorado.\n",
      "685 missing dates in Connecticut.\n",
      "957 missing dates in Delaware.\n",
      "814 missing dates in District of Columbia.\n",
      "356 missing dates in Florida.\n",
      "384 missing dates in Georgia.\n",
      "1681 missing dates in Hawaii.\n",
      "1424 missing dates in Idaho.\n",
      "354 missing dates in Illinois.\n",
      "420 missing dates in Indiana.\n",
      "797 missing dates in Iowa.\n",
      "848 missing dates in Kansas.\n",
      "525 missing dates in Kentucky.\n",
      "379 missing dates in Louisiana.\n",
      "1378 missing dates in Maine.\n",
      "437 missing dates in Maryland.\n",
      "465 missing dates in Massachusetts.\n",
      "424 missing dates in Michigan.\n",
      "899 missing dates in Minnesota.\n",
      "567 missing dates in Mississippi.\n",
      "420 missing dates in Missouri.\n",
      "1460 missing dates in Montana.\n",
      "1057 missing dates in Nebraska.\n",
      "887 missing dates in Nevada.\n",
      "1300 missing dates in New Hampshire.\n",
      "459 missing dates in New Jersey.\n",
      "1007 missing dates in New Mexico.\n",
      "369 missing dates in New York.\n",
      "369 missing dates in North Carolina.\n",
      "1508 missing dates in North Dakota.\n",
      "367 missing dates in Ohio.\n",
      "601 missing dates in Oklahoma.\n",
      "868 missing dates in Oregon.\n",
      "362 missing dates in Pennsylvania.\n",
      "1348 missing dates in Rhode Island.\n",
      "408 missing dates in South Carolina.\n",
      "1561 missing dates in South Dakota.\n",
      "385 missing dates in Tennessee.\n",
      "359 missing dates in Texas.\n",
      "1244 missing dates in Utah.\n",
      "1567 missing dates in Vermont.\n",
      "428 missing dates in Virginia.\n",
      "625 missing dates in Washington.\n",
      "986 missing dates in West Virginia.\n",
      "520 missing dates in Wisconsin.\n",
      "1729 missing dates in Wyoming.\n"
     ]
    }
   ],
   "source": [
    "missing_dates = set(pd.period_range(min(df_date['date']), max(df_date['date']))) - set(list(pd.DatetimeIndex(df_date['date']).to_period('D')))\n",
    "print(\"{} missing dates across the US.\".format(len(missing_dates)))\n",
    "df_append = pd.DataFrame(list(missing_dates), columns = ['date'])\n",
    "df_append['date'] = pd.to_datetime(df_append['date'].astype(str))\n",
    "for column in df_date.columns:\n",
    "    if column != 'date':\n",
    "        df_append[column] = 0\n",
    "df_date = df_date.append(df_append, sort=False, ignore_index = True)\n",
    "\n",
    "for state in df_states['state'].unique():\n",
    "    missing_dates = set(pd.period_range(min(df_states['date']), max(df_states['date']))) - set(list(pd.DatetimeIndex(df_states[df_states['state']==state]['date']).to_period('D')))\n",
    "    print(\"{} missing dates in {}.\".format(len(missing_dates), state))\n",
    "    df_append = pd.DataFrame(list(missing_dates), columns = ['date'])\n",
    "    df_append['date'] = pd.to_datetime(df_append['date'].astype(str))\n",
    "    df_append['state'] = state\n",
    "    for column in df_states.columns:\n",
    "        if column != 'date' and column != 'state':\n",
    "            df_append[column] = 0\n",
    "    df_states = df_states.append(df_append, sort=False, ignore_index = True)"
   ]
  },
  {
   "cell_type": "code",
   "execution_count": 43,
   "metadata": {},
   "outputs": [
    {
     "data": {
      "text/plain": [
       "True"
      ]
     },
     "execution_count": 43,
     "metadata": {},
     "output_type": "execute_result"
    }
   ],
   "source": [
    "len(list(set(df_states['state'].value_counts().values)))==1"
   ]
  },
  {
   "cell_type": "code",
   "execution_count": 44,
   "metadata": {},
   "outputs": [],
   "source": [
    "for column in df_states.columns:\n",
    "    if column=='date':\n",
    "        df_states['date'] = pd.to_datetime(df_states['date'])\n",
    "    elif column=='state':\n",
    "        pass\n",
    "    else:\n",
    "        df_states[column] = df_states[column].astype(int)\n",
    "        \n",
    "for column in df_date.columns:\n",
    "    if column=='date':\n",
    "        df_date['date'] = pd.to_datetime(df_date['date'])\n",
    "    else:\n",
    "        df_date[column] = df_date[column].astype(int)"
   ]
  },
  {
   "cell_type": "code",
   "execution_count": 45,
   "metadata": {},
   "outputs": [],
   "source": [
    "df_states['year'] = df_states['date'].dt.year\n",
    "df_states = pd.merge(df_states, state_laws_df, on=['state', 'year'], how='left')\n",
    "df_states = df_states.reset_index()\n",
    "df_states.drop(['index'], axis = 1, inplace = True)\n",
    "\n",
    "df_states = df_states.sort_values(by = 'date', ascending = True)\n",
    "# exporting df_date un_scaled data to assets repository for d3.js visualization\n",
    "df_date = df_date.sort_values(by = 'date', ascending = True)\n",
    "\n",
    "df_states.to_pickle('../Pickles/df_states_2.pkl')\n",
    "df_date.to_pickle('../Pickles/df_date_2.pkl')\n",
    "df_date.to_csv('../../cyaris.github.io/assets/df_date_observations.csv')"
   ]
  },
  {
   "cell_type": "code",
   "execution_count": 46,
   "metadata": {},
   "outputs": [
    {
     "data": {
      "text/plain": [
       "True"
      ]
     },
     "execution_count": 46,
     "metadata": {},
     "output_type": "execute_result"
    }
   ],
   "source": [
    "len(df_date)==len(df_states)/51"
   ]
  },
  {
   "cell_type": "code",
   "execution_count": 47,
   "metadata": {},
   "outputs": [],
   "source": [
    "df_states = pd.read_pickle('../Pickles/df_states_2.pkl')\n",
    "df_date = pd.read_pickle('../Pickles/df_date_2.pkl')"
   ]
  },
  {
   "cell_type": "code",
   "execution_count": null,
   "metadata": {},
   "outputs": [],
   "source": [
    "# print(len(df_date[df_date['num_incidents']==0]))\n",
    "# print(len(df_states[df_states['num_incidents']==0]))"
   ]
  },
  {
   "cell_type": "code",
   "execution_count": null,
   "metadata": {},
   "outputs": [],
   "source": []
  }
 ],
 "metadata": {
  "kernelspec": {
   "display_name": "Python 3",
   "language": "python",
   "name": "python3"
  },
  "language_info": {
   "codemirror_mode": {
    "name": "ipython",
    "version": 3
   },
   "file_extension": ".py",
   "mimetype": "text/x-python",
   "name": "python",
   "nbconvert_exporter": "python",
   "pygments_lexer": "ipython3",
   "version": "3.6.4"
  }
 },
 "nbformat": 4,
 "nbformat_minor": 2
}
